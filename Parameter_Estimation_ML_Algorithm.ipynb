{
 "cells": [
  {
   "cell_type": "markdown",
   "id": "2b15a13a",
   "metadata": {},
   "source": [
    "# Using ML for paramter estimation"
   ]
  },
  {
   "cell_type": "code",
   "execution_count": 1,
   "id": "b3f91eb1",
   "metadata": {},
   "outputs": [],
   "source": [
    "import matplotlib.pyplot as plt\n",
    "import csv\n",
    "import pandas as pd\n",
    "import numpy as np\n",
    "import scipy as sp\n",
    "import sklearn as sl\n",
    "from scipy import stats\n",
    "from sklearn import datasets\n",
    "from sklearn import linear_model\n",
    "np.random.seed(1333)\n",
    "\n",
    "\"\"\"Loading the Data\"\"\"\n",
    "\n",
    "dir       = 'data/'\n",
    "file_name = 'grid1_zheb51fo.xlsx'\n",
    "UX1       = pd.read_excel(dir+file_name, sheet_name='UX1_Index')\n",
    "UX2       = pd.read_excel(dir+file_name, sheet_name='UX2_Index')\n",
    "UX1       = UX1.set_index('Date')\n",
    "UX2       = UX2.set_index('Date')\n",
    "UX1.sort_index(inplace=True)\n",
    "UX2.sort_index(inplace=True)\n",
    "dataset = np.array(UX1.PX_LAST)\n",
    "dataset = dataset[4:]              #we drop 4 data for simpler illustratoins"
   ]
  },
  {
   "cell_type": "code",
   "execution_count": 2,
   "id": "693af0a9",
   "metadata": {},
   "outputs": [],
   "source": [
    "\"\"\"Specifying the Input & Output (Labels)\"\"\"\n",
    "\n",
    "n=0     #Looking at n previous days to estimate paramteres\n",
    "X=np.array([[dataset[j] for j in range(i, i+n+1)] for i in range(len(dataset) - n)])\n",
    "Y=np.array([dataset[i+n] for i in range(len(dataset) - n)])"
   ]
  },
  {
   "cell_type": "code",
   "execution_count": 3,
   "id": "4a680e5b",
   "metadata": {},
   "outputs": [],
   "source": [
    "\"\"\"Splitting Data into Train and Test set\"\"\"\n",
    "\n",
    "m_training= 2000\n",
    "m_test= 1000\n",
    "\n",
    "X_training=X[:m_training]\n",
    "Y_training=Y[:m_training]\n",
    "\n",
    "X_test=X[m_training:]\n",
    "Y_test=Y[m_training:]"
   ]
  },
  {
   "cell_type": "code",
   "execution_count": 4,
   "id": "ea0fd5e8",
   "metadata": {},
   "outputs": [],
   "source": [
    "\"\"\"Building the Hypothesis\"\"\"\n",
    "\n",
    "def heston_pde_milstein(V0, r, k, theta, rho, sigma):\n",
    "    WT  = np.sqrt( 1 ) * np.random.multivariate_normal( np.array( [0,  0] ), np.array( [[1, rho], [rho, 1]] ), size=1)\n",
    "    V1 = np.abs(V0+ k * (theta - V0) * 1 + sigma * np.sqrt(V0) * WT[:, 1] + .25 * sigma**2 * (WT[:,1]**2 - 1))\n",
    "    return V1"
   ]
  },
  {
   "cell_type": "code",
   "execution_count": 5,
   "id": "91a0ba9e",
   "metadata": {},
   "outputs": [
    {
     "data": {
      "text/plain": [
       "1.1794806371367934"
      ]
     },
     "execution_count": 5,
     "metadata": {},
     "output_type": "execute_result"
    }
   ],
   "source": [
    "#Paramteres\n",
    "theta   = 1\n",
    "k       = 1\n",
    "sigma   = 1\n",
    "rho     = 1\n",
    "r       = 0    \n",
    "V0 = 3.5\n",
    "\n",
    "heston_pde_milstein(V0, r, k, theta, rho, sigma)[0]"
   ]
  },
  {
   "cell_type": "code",
   "execution_count": 6,
   "id": "9770c174",
   "metadata": {},
   "outputs": [],
   "source": [
    "X_training= np.ravel(X_training)\n",
    "\n",
    "Y_pred = np.array([heston_pde_milstein(X_training[i], r, k, theta, rho, sigma)[0] for i in range(len(X_training))])"
   ]
  },
  {
   "cell_type": "code",
   "execution_count": 10,
   "id": "ae600854",
   "metadata": {},
   "outputs": [],
   "source": [
    "\"\"\"Building the Loss Function\"\"\"\n",
    "#The difference between real label and the predicted one\n",
    "\n",
    "# l = (heston_pde_milstein(X_training[i], r, k, theta, rho, sigma) - Y_training[i])**2\n",
    "m=len(X_training)\n",
    "\n",
    "Ls= (1/m) * np.sum(np.array([(heston_pde_milstein(X_training[i], r, k, theta, rho, sigma) - Y_training[i])**2 \n",
    "                             for i in range(len(X_training))]))"
   ]
  },
  {
   "cell_type": "code",
   "execution_count": null,
   "id": "a5cf629d",
   "metadata": {},
   "outputs": [],
   "source": [
    "\"\"\"ERM: Empirical Risk Minimization\"\"\"\n",
    "\n",
    "#we should minimize Ls"
   ]
  }
 ],
 "metadata": {
  "kernelspec": {
   "display_name": "Python 3",
   "language": "python",
   "name": "python3"
  },
  "language_info": {
   "codemirror_mode": {
    "name": "ipython",
    "version": 3
   },
   "file_extension": ".py",
   "mimetype": "text/x-python",
   "name": "python",
   "nbconvert_exporter": "python",
   "pygments_lexer": "ipython3",
   "version": "3.8.8"
  }
 },
 "nbformat": 4,
 "nbformat_minor": 5
}
