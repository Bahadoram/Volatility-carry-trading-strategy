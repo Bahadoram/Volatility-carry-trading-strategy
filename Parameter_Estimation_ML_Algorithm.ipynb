{
 "cells": [
  {
   "cell_type": "markdown",
   "id": "2b15a13a",
   "metadata": {},
   "source": [
    "# Using ML for paramter estimation"
   ]
  },
  {
   "cell_type": "code",
   "execution_count": 1,
   "id": "b3f91eb1",
   "metadata": {},
   "outputs": [],
   "source": [
    "import matplotlib.pyplot as plt\n",
    "import csv\n",
    "import pandas as pd\n",
    "import numpy as np\n",
    "import scipy as sp\n",
    "import sklearn as sl\n",
    "from scipy import stats\n",
    "from sklearn import datasets\n",
    "from sklearn import linear_model\n",
    "from scipy.optimize import minimize\n",
    "from sklearn.neural_network import MLPRegressor\n",
    "from sklearn.model_selection import GridSearchCV\n",
    "\n",
    "\n",
    "\"\"\"Loading the Data\"\"\"\n",
    "\n",
    "dir       = 'data/'\n",
    "file_name = 'grid1_zheb51fo.xlsx'\n",
    "UX1       = pd.read_excel(dir+file_name, sheet_name='UX1_Index')\n",
    "UX2       = pd.read_excel(dir+file_name, sheet_name='UX2_Index')\n",
    "UX1       = UX1.set_index('Date')\n",
    "UX2       = UX2.set_index('Date')\n",
    "UX1.dropna(subset = [\"PX_LAST\"], inplace=True)   #Getting rid of NaN values\n",
    "UX2.dropna(subset = [\"PX_LAST\"], inplace=True)\n",
    "UX1.sort_index(inplace=True)\n",
    "UX2.sort_index(inplace=True)\n",
    "dataset = np.array(UX1.PX_LAST)"
   ]
  },
  {
   "cell_type": "code",
   "execution_count": 2,
   "id": "693af0a9",
   "metadata": {},
   "outputs": [],
   "source": [
    "\"\"\"Specifying the Input & Output (Labels)\"\"\"\n",
    "\n",
    "n=0     #Looking at n previous days to estimate paramteres\n",
    "X=np.array([[dataset[j] for j in range(i, i+n+1)] for i in range(len(dataset) - n)])\n",
    "Y=np.array([dataset[i+n] for i in range(len(dataset) - n)])"
   ]
  },
  {
   "cell_type": "code",
   "execution_count": 3,
   "id": "4a680e5b",
   "metadata": {},
   "outputs": [],
   "source": [
    "\"\"\"Splitting Data into Train and Test set\"\"\"\n",
    "\n",
    "m_training= 2000\n",
    "m_test= 1000\n",
    "\n",
    "X_training=X[ :m_training  ]\n",
    "Y_training=Y[1:m_training+1]   #The labels are shifted 1 to the right since they are tomorrow's value\n",
    "\n",
    "X_test=X[m_training:m_test]\n",
    "Y_test=Y[m_training+1:m_test+1]\n",
    "\n",
    "#for the case of n=0\n",
    "X_training= np.ravel(X_training)  \n",
    "X_test    = np.ravel(X_test)"
   ]
  },
  {
   "cell_type": "code",
   "execution_count": 4,
   "id": "ea0fd5e8",
   "metadata": {},
   "outputs": [],
   "source": [
    "\"\"\"Building the Hypothesis\"\"\"\n",
    "\n",
    "def heston_pde_milstein(V0, k, theta, rho, sigma):\n",
    "    WT  = np.sqrt( 1 ) * np.random.multivariate_normal(np.array([0, 0]), np.array([[1, rho], [rho, 1]]))[1]\n",
    "    V1 = np.abs(V0+ k * (theta - V0) * 1 + sigma * np.sqrt(V0) * WT + .25 * sigma**2 * (WT**2 - 1))\n",
    "    return V1"
   ]
  },
  {
   "cell_type": "code",
   "execution_count": 5,
   "id": "ae600854",
   "metadata": {},
   "outputs": [],
   "source": [
    "\"\"\"Building the Loss Function\"\"\"\n",
    "\n",
    "#The difference between real label and the predicted one to the power of 2\n",
    "#l = (heston_pde_milstein(X_training[i], r, k, theta, rho, sigma) - Y_training[i])**2\n",
    "\n",
    "m=len(X_training)  #Training set size\n",
    "# k: x[0], theta:x[1], rho:x[2], sigma:x[3]\n",
    "\n",
    "def Ls(X):\n",
    "    def heston_inner_func(i):   #calculates the predicted lable for each training sample\n",
    "        WT  = np.random.multivariate_normal(np.array([0, 0]), np.array([[1, X[2]], [X[2], 1]]))[1]\n",
    "        V1 =  np.abs(X_training[i] + X[0] * (X[0] - X_training[i]) * 1 + \n",
    "                     X[3] * np.sqrt(X_training[i]) * WT + .25 * X[3]**2 * (WT**2 - 1))\n",
    "        return V1\n",
    "    Ls = (1/m) * np.sum(np.array([(heston_inner_func(i) - Y_training[i])**2 for i in range(m)]))\n",
    "    return Ls"
   ]
  },
  {
   "cell_type": "code",
   "execution_count": 6,
   "id": "a5cf629d",
   "metadata": {},
   "outputs": [
    {
     "name": "stderr",
     "output_type": "stream",
     "text": [
      "<ipython-input-5-08901b0a8f86>:11: RuntimeWarning: covariance is not positive-semidefinite.\n",
      "  WT  = np.random.multivariate_normal(np.array([0, 0]), np.array([[1, X[2]], [X[2], 1]]))[1]\n",
      "<ipython-input-5-08901b0a8f86>:11: RuntimeWarning: covariance is not positive-semidefinite.\n",
      "  WT  = np.random.multivariate_normal(np.array([0, 0]), np.array([[1, X[2]], [X[2], 1]]))[1]\n"
     ]
    }
   ],
   "source": [
    "\"\"\"ERM: Empirical Risk Minimization\"\"\"\n",
    "\n",
    "result = minimize(Ls, (1,1,1,1))  #initial values should be given"
   ]
  },
  {
   "cell_type": "code",
   "execution_count": 7,
   "id": "5ecd2991",
   "metadata": {},
   "outputs": [
    {
     "name": "stdout",
     "output_type": "stream",
     "text": [
      "Best Paramteres: [1. 1. 1. 1.]\n",
      "Minimum Ls: 258.171208309428\n"
     ]
    }
   ],
   "source": [
    "best_params = result.x\n",
    "print(\"Best Paramteres:\", best_params)\n",
    "print(\"Minimum Ls:\", result.fun)"
   ]
  },
  {
   "cell_type": "code",
   "execution_count": null,
   "id": "ba16ad91",
   "metadata": {},
   "outputs": [],
   "source": [
    "#Are we trapped inside a loval minima?!!"
   ]
  },
  {
   "cell_type": "code",
   "execution_count": 8,
   "id": "371890d1",
   "metadata": {},
   "outputs": [
    {
     "name": "stdout",
     "output_type": "stream",
     "text": [
      "353.9178899100621\n"
     ]
    }
   ],
   "source": [
    "\"\"\"Evaluating the model on test Set\"\"\"\n",
    "\n",
    "k, theta, rho, sigma = best_params[0], best_params[1], best_params[2], best_params[3]\n",
    "Y_pred = np.array([heston_pde_milstein(X_test[i], k, theta, rho, sigma) for i in range(len(X_test))])\n",
    "Y_pred = np.ravel(Y_pred)\n",
    "\n",
    "#True Error\n",
    "Ld =  (1/len(Y_test)) * np.sum((Y_pred - Y_test)**2)\n",
    "print(Ld)"
   ]
  },
  {
   "cell_type": "code",
   "execution_count": 9,
   "id": "4904a22d",
   "metadata": {},
   "outputs": [
    {
     "name": "stdout",
     "output_type": "stream",
     "text": [
      "258.4719600549518\n",
      "[ 0.3353749   2.48652982 10.71455376  4.08629345  4.25810502  6.47387993\n",
      "  9.0364508   9.8758356   4.16068681  5.57656333  0.63290172  5.34756914\n",
      "  6.69915723  9.05107268  0.05254143  2.19888437  1.27835476  2.93862302\n",
      "  1.32855685  2.36596169  1.41726563  5.36076196  4.22512651  5.97446401\n",
      "  1.29303034  0.24981222  5.0956642   0.71031502  6.9200246   9.89077004\n",
      "  0.10582841  4.29703251  4.32232016  2.2368761   4.03058338  0.67795241\n",
      " 10.8854137   4.411441    3.34273307  0.7300168   4.02636839  0.78199945\n",
      "  5.16346494  4.80760133  7.29505977  1.4444556   3.80336887  6.95496129\n",
      "  2.62417655  2.31172405]\n",
      "[22.25 22.8  22.5  22.   22.55 21.55 21.4  22.65 24.75 24.35 24.55 23.75\n",
      " 24.   24.65 24.25 23.45 23.55 25.65 25.85 26.2  25.65 25.55 24.95 24.9\n",
      " 23.6  22.75 21.8  21.35 20.95 21.65 21.1  20.95 20.4  23.05 22.8  22.6\n",
      " 22.5  21.6  21.25 21.25 21.4  21.6  21.45 21.5  20.9  20.1  19.8  20.2\n",
      " 19.9  19.45]\n"
     ]
    }
   ],
   "source": [
    "Y_pred_train = np.array([heston_pde_milstein(X_training[i], k, theta, rho, sigma) for i in range(len(X_training))])\n",
    "L =  (1/m) * np.sum((Y_pred_train - Y_training)**2)\n",
    "print(L)\n",
    "\n",
    "print(Y_pred_train[:50])\n",
    "print(Y_training[:50])"
   ]
  },
  {
   "cell_type": "code",
   "execution_count": 34,
   "id": "27e2551f",
   "metadata": {},
   "outputs": [
    {
     "name": "stdout",
     "output_type": "stream",
     "text": [
      "Best parameters set found:\n",
      "{'hidden_layer_sizes': (20, 20, 20)}\n",
      "\n",
      "\n",
      "Score with best parameters:\n",
      "0.9017655442401683\n",
      "\n",
      "\n",
      "All scores on the grid:\n",
      "[0.94466512 0.94130667 0.94460389 0.94348086 0.94227079 0.94479527]\n",
      "[0.95283685 0.96367    0.96315249 0.96401931 0.96419104 0.96382318]\n",
      "[0.84072252 0.84765981 0.84523969 0.85733772 0.85515102 0.82448351]\n",
      "[0.88105096 0.88079457 0.88082584 0.87983886 0.88096221 0.88029017]\n",
      "[0.85098061 0.85805695 0.85791295 0.84143903 0.85805161 0.85644316]\n",
      "[0.90951647 0.89321098 0.91094559 0.90860065 0.9099666  0.91064742]\n"
     ]
    }
   ],
   "source": [
    "\"\"\"Using Neural Network for the Whole task: A Non-Physical Experiment\"\"\"\n",
    "\n",
    "#Let's, just for a momemnt, Ignore any pre_knowledge about the subject and see what happens\n",
    "\n",
    "m_training= 2500\n",
    "m_test= 500\n",
    "\n",
    "X_training=X[ :m_training  ]\n",
    "Y_training=Y[1:m_training+1]   #The labels are shifted 1 to the right since they should be tomorrow's volatility\n",
    "\n",
    "X_test=X[m_training: m_training + m_test]\n",
    "Y_test=Y[m_training+1: m_training+m_test+1]\n",
    "\n",
    "\n",
    "NN_R = MLPRegressor(hidden_layer_sizes=(100,100,100), max_iter=1000, \n",
    "                    alpha=1e-4, solver='adam', momentum=0.9,\n",
    "                    activation='relu', tol=1e-4, learning_rate_init=0.0001)\n",
    "\n",
    "NN_R.fit(X_training, Y_training)\n",
    "Y_pred = NN_R.predict(X_test)\n",
    "\n",
    "# print(\"Predicted Volatilty:\\n\", Y_pred[100:120])\n",
    "# print(\"\\nTrue Volatility:\\n\",     Y_test[100:120])\n",
    "# print(\"\\nThe score:\", NN_R.score(X_test, Y_test))\n",
    "\n",
    "NN_R = MLPRegressor(max_iter=1000, alpha=1e-4, solver='adam', momentum=0.9,\n",
    "                    activation='relu', tol=1e-4, learning_rate_init=0.0001)\n",
    "parameters = {'hidden_layer_sizes': [(10,), (20,), (40,), (20,20,),(20,20,20), (40,20,10) ]}\n",
    "\n",
    "gsc = GridSearchCV(NN_R, parameters, cv=6)\n",
    "\n",
    "gsc.fit(X_training, Y_training)\n",
    "\n",
    "\n",
    "print(\"Best parameters set found:\")\n",
    "print(gsc.best_params_)\n",
    "print(\"\\n\")\n",
    "\n",
    "print(\"Score with best parameters:\")\n",
    "print(gsc.best_score_)\n",
    "print(\"\\n\")\n",
    "\n",
    "print(\"All scores on the grid:\")\n",
    "print(gsc.cv_results_.get('split0_test_score'))\n",
    "print(gsc.cv_results_.get('split1_test_score'))\n",
    "print(gsc.cv_results_.get('split2_test_score'))\n",
    "print(gsc.cv_results_.get('split3_test_score'))\n",
    "print(gsc.cv_results_.get('split4_test_score'))\n",
    "print(gsc.cv_results_.get('split5_test_score'))"
   ]
  },
  {
   "cell_type": "code",
   "execution_count": null,
   "id": "bcd4bdde",
   "metadata": {},
   "outputs": [],
   "source": []
  }
 ],
 "metadata": {
  "kernelspec": {
   "display_name": "Python 3",
   "language": "python",
   "name": "python3"
  },
  "language_info": {
   "codemirror_mode": {
    "name": "ipython",
    "version": 3
   },
   "file_extension": ".py",
   "mimetype": "text/x-python",
   "name": "python",
   "nbconvert_exporter": "python",
   "pygments_lexer": "ipython3",
   "version": "3.8.8"
  }
 },
 "nbformat": 4,
 "nbformat_minor": 5
}
