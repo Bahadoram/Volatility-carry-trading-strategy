{
 "cells": [
  {
   "cell_type": "markdown",
   "id": "2b15a13a",
   "metadata": {},
   "source": [
    "# Using Machine Learning methods for estimating the paramters of Heston model\n",
    "\n",
    "In this section we try to incorporate machine learning methods to estimate paramteres of Heston pde. Furthermore, as a non-physical experimentm, we try to overlook the Heston model and implement a neural network fo rth whole task."
   ]
  },
  {
   "cell_type": "code",
   "execution_count": 1,
   "id": "2bbfa02d",
   "metadata": {},
   "outputs": [],
   "source": [
    "#pip install numdifftools   \n",
    "# %matplotlib notebook         \n",
    "%matplotlib inline        "
   ]
  },
  {
   "cell_type": "code",
   "execution_count": 2,
   "id": "eb3e73f3",
   "metadata": {},
   "outputs": [],
   "source": [
    "#Importing essential libraries:\n",
    "import csv\n",
    "import numpy as np\n",
    "import scipy as sp\n",
    "import pandas as pd\n",
    "import sklearn as sl\n",
    "from scipy import stats\n",
    "import numdifftools as nd\n",
    "from sklearn import datasets\n",
    "import matplotlib.pyplot as plt\n",
    "from sklearn import linear_model\n",
    "from scipy.optimize import minimize\n",
    "from mpl_toolkits.mplot3d import axes3d\n",
    "from sklearn.neural_network import MLPRegressor\n",
    "from sklearn.model_selection import GridSearchCV"
   ]
  },
  {
   "cell_type": "code",
   "execution_count": 3,
   "id": "b3f91eb1",
   "metadata": {},
   "outputs": [],
   "source": [
    "\"\"\"Loading the Data\"\"\"\n",
    "dir       = 'data/'\n",
    "file_name = 'grid1_zheb51fo.xlsx'\n",
    "UX1       = pd.read_excel(dir+file_name, sheet_name='UX1_Index')s\n",
    "UX2       = pd.read_excel(dir+file_name, sheet_name='UX2_Index')\n",
    "UX1       = UX1.set_index('Date')\n",
    "UX2       = UX2.set_index('Date')\n",
    "UX1.dropna(subset = [\"PX_LAST\"], inplace=True)   #Getting rid of NaN values\n",
    "UX2.dropna(subset = [\"PX_LAST\"], inplace=True)\n",
    "UX1.sort_index(inplace=True)\n",
    "UX2.sort_index(inplace=True)\n",
    "dataset = np.array(UX1.PX_LAST)\n",
    "# M = 100    #M times magnification\n",
    "# dataset= dataset * M"
   ]
  },
  {
   "cell_type": "code",
   "execution_count": 4,
   "id": "693af0a9",
   "metadata": {
    "scrolled": true
   },
   "outputs": [],
   "source": [
    "\"\"\"Specifying the Input & Output (Labels)\"\"\"\n",
    "n=0     #Looking at n previous days, 0 for Heston predictor\n",
    "X= [[dataset[j] for j in range(i, i+n+1)] for i in range(len(dataset) - n - 1)]\n",
    "Y= [dataset[i+n+1] for i in range(len(dataset) - n -1)]"
   ]
  },
  {
   "cell_type": "code",
   "execution_count": 5,
   "id": "ef437144",
   "metadata": {},
   "outputs": [
    {
     "name": "stdout",
     "output_type": "stream",
     "text": [
      "[24.85 24.45 23.55]\n",
      "[[24.85], [24.45], [23.55]]\n",
      "[24.45, 23.55, 23.15]\n"
     ]
    }
   ],
   "source": [
    "print(dataset[:3])\n",
    "print(X[:3])\n",
    "print(Y[:3])"
   ]
  },
  {
   "cell_type": "code",
   "execution_count": 18,
   "id": "4a680e5b",
   "metadata": {},
   "outputs": [],
   "source": [
    "\"\"\"Splitting Data into Train and Test set\"\"\"\n",
    "m_training= 2000\n",
    "m_test= 1000\n",
    "\n",
    "X_training_heston= X[:m_training]\n",
    "Y_training_heston= Y[:m_training]   \n",
    "\n",
    "X_test_heston= X[m_training:m_training+m_test]\n",
    "Y_test_heston= Y[m_training:m_training+m_test]\n",
    "\n",
    "if n==0:\n",
    "    X_training_heston = np.ravel(X_training_heston)\n",
    "    X_test_heston = np.ravel(X_test_heston)\n",
    "    Y_training_heston = np.array(Y_training_heston)\n",
    "    Y_test_heston = np.array(Y_test_heston)"
   ]
  },
  {
   "cell_type": "code",
   "execution_count": 7,
   "id": "ea0fd5e8",
   "metadata": {},
   "outputs": [],
   "source": [
    "\"\"\"Building the Hypothesis\"\"\"\n",
    "def heston_pde_milstein(V0, k, theta, rho, sigma):\n",
    "    WT  = np.sqrt( 1 ) * np.random.multivariate_normal(np.array([0, 0]), np.array([[1, rho], [rho, 1]]))[1]\n",
    "    V1 = np.abs(V0+ k * (theta - V0) * 1 + sigma * np.sqrt(V0) * WT + .25 * sigma**2 * (WT**2 - 1))\n",
    "    return V1"
   ]
  },
  {
   "cell_type": "code",
   "execution_count": 8,
   "id": "ae600854",
   "metadata": {},
   "outputs": [],
   "source": [
    "\"\"\"Building the Loss Function\"\"\"\n",
    "\n",
    "#The difference between real label and the predicted one to the power of 2\n",
    "#l = (heston_pde_milstein(X_training_heston[i], r, k, theta, rho, sigma) - Y_training_heston[i])**2\n",
    "m=len(X_training_heston)  #Training set size\n",
    "# k: x[0], theta:x[1], rho:x[2], sigma:x[3]\n",
    "def Ls(X):\n",
    "    def heston_inner_func(i):   #calculates the predicted lable for each training sample\n",
    "        WT  = np.random.multivariate_normal(np.array([0, 0]), np.array([[1, X[2]], [X[2], 1]]))[1]\n",
    "        V1 =  np.abs(X_training_heston[i] + X[0] * (X[1] - X_training_heston[i]) * 1 + \n",
    "                     X[3] * np.sqrt(X_training_heston[i]) * WT + .25 * X[3]**2 * (WT**2 - 1))\n",
    "        return V1\n",
    "    Ls = (1/m) * np.sum(np.array([(heston_inner_func(i) - Y_training_heston[i])**2 for i in range(m)]))\n",
    "    return Ls"
   ]
  },
  {
   "cell_type": "code",
   "execution_count": 9,
   "id": "a5cf629d",
   "metadata": {},
   "outputs": [
    {
     "name": "stderr",
     "output_type": "stream",
     "text": [
      "<ipython-input-8-5cdb2417c781>:9: RuntimeWarning: covariance is not positive-semidefinite.\n",
      "  WT  = np.random.multivariate_normal(np.array([0, 0]), np.array([[1, X[2]], [X[2], 1]]))[1]\n",
      "<ipython-input-8-5cdb2417c781>:9: RuntimeWarning: covariance is not positive-semidefinite.\n",
      "  WT  = np.random.multivariate_normal(np.array([0, 0]), np.array([[1, X[2]], [X[2], 1]]))[1]\n",
      "<ipython-input-8-5cdb2417c781>:9: RuntimeWarning: covariance is not positive-semidefinite.\n",
      "  WT  = np.random.multivariate_normal(np.array([0, 0]), np.array([[1, X[2]], [X[2], 1]]))[1]\n",
      "<ipython-input-8-5cdb2417c781>:9: RuntimeWarning: covariance is not positive-semidefinite.\n",
      "  WT  = np.random.multivariate_normal(np.array([0, 0]), np.array([[1, X[2]], [X[2], 1]]))[1]\n"
     ]
    },
    {
     "name": "stdout",
     "output_type": "stream",
     "text": [
      "Best Paramteres: [0.10000124 1.5000065  3.00000444 1.00000185]\n",
      "Minimum Ls: 56.57028178011639\n"
     ]
    }
   ],
   "source": [
    "\"\"\"ERM: Empirical Risk Minimization, Using Scipy\"\"\"\n",
    "\n",
    "result = minimize(Ls, (0.1, 1.5, 3, 1))\n",
    "print(\"Best Paramteres:\",  result.x)\n",
    "print(\"Minimum Ls:\", result.fun)"
   ]
  },
  {
   "cell_type": "code",
   "execution_count": 10,
   "id": "e4bfd822",
   "metadata": {},
   "outputs": [
    {
     "name": "stderr",
     "output_type": "stream",
     "text": [
      "<ipython-input-10-8382a2856b0c>:6: RuntimeWarning: covariance is not positive-semidefinite.\n",
      "  WT  = np.random.multivariate_normal(np.array([0, 0]), np.array([[1, X[0]], [X[0], 1]]))[1]\n",
      "<ipython-input-10-8382a2856b0c>:6: RuntimeWarning: covariance is not positive-semidefinite.\n",
      "  WT  = np.random.multivariate_normal(np.array([0, 0]), np.array([[1, X[0]], [X[0], 1]]))[1]\n",
      "<ipython-input-10-8382a2856b0c>:6: RuntimeWarning: covariance is not positive-semidefinite.\n",
      "  WT  = np.random.multivariate_normal(np.array([0, 0]), np.array([[1, X[0]], [X[0], 1]]))[1]\n",
      "<ipython-input-10-8382a2856b0c>:6: RuntimeWarning: covariance is not positive-semidefinite.\n",
      "  WT  = np.random.multivariate_normal(np.array([0, 0]), np.array([[1, X[0]], [X[0], 1]]))[1]\n",
      "<ipython-input-10-8382a2856b0c>:6: RuntimeWarning: covariance is not positive-semidefinite.\n",
      "  WT  = np.random.multivariate_normal(np.array([0, 0]), np.array([[1, X[0]], [X[0], 1]]))[1]\n",
      "<ipython-input-10-8382a2856b0c>:6: RuntimeWarning: covariance is not positive-semidefinite.\n",
      "  WT  = np.random.multivariate_normal(np.array([0, 0]), np.array([[1, X[0]], [X[0], 1]]))[1]\n",
      "<ipython-input-10-8382a2856b0c>:6: RuntimeWarning: covariance is not positive-semidefinite.\n",
      "  WT  = np.random.multivariate_normal(np.array([0, 0]), np.array([[1, X[0]], [X[0], 1]]))[1]\n",
      "<ipython-input-10-8382a2856b0c>:6: RuntimeWarning: covariance is not positive-semidefinite.\n",
      "  WT  = np.random.multivariate_normal(np.array([0, 0]), np.array([[1, X[0]], [X[0], 1]]))[1]\n"
     ]
    },
    {
     "ename": "KeyboardInterrupt",
     "evalue": "",
     "output_type": "error",
     "traceback": [
      "\u001b[1;31m---------------------------------------------------------------------------\u001b[0m",
      "\u001b[1;31mKeyboardInterrupt\u001b[0m                         Traceback (most recent call last)",
      "\u001b[1;32m<ipython-input-10-8382a2856b0c>\u001b[0m in \u001b[0;36m<module>\u001b[1;34m\u001b[0m\n\u001b[0;32m     33\u001b[0m \u001b[0mlr_l\u001b[0m\u001b[1;33m=\u001b[0m\u001b[1;36m0.1\u001b[0m\u001b[1;33m\u001b[0m\u001b[1;33m\u001b[0m\u001b[0m\n\u001b[0;32m     34\u001b[0m \u001b[0minit1\u001b[0m \u001b[1;33m=\u001b[0m \u001b[0mnp\u001b[0m\u001b[1;33m.\u001b[0m\u001b[0marray\u001b[0m\u001b[1;33m(\u001b[0m\u001b[1;33m[\u001b[0m\u001b[1;33m-\u001b[0m\u001b[1;36m0.7\u001b[0m\u001b[1;33m,\u001b[0m\u001b[1;36m0.5\u001b[0m\u001b[1;33m,\u001b[0m\u001b[1;36m0\u001b[0m\u001b[1;33m,\u001b[0m\u001b[1;36m1.5\u001b[0m\u001b[1;33m]\u001b[0m\u001b[1;33m)\u001b[0m\u001b[1;33m\u001b[0m\u001b[1;33m\u001b[0m\u001b[0m\n\u001b[1;32m---> 35\u001b[1;33m \u001b[0madam_trajectory1\u001b[0m\u001b[1;33m=\u001b[0m\u001b[0madams\u001b[0m\u001b[1;33m(\u001b[0m\u001b[0mgrad\u001b[0m\u001b[1;33m,\u001b[0m\u001b[0minit1\u001b[0m\u001b[1;33m,\u001b[0m\u001b[0mNsteps\u001b[0m\u001b[1;33m,\u001b[0m\u001b[0meta\u001b[0m\u001b[1;33m=\u001b[0m\u001b[0mlr_l\u001b[0m\u001b[1;33m,\u001b[0m \u001b[0mgamma\u001b[0m\u001b[1;33m=\u001b[0m\u001b[1;36m0.9\u001b[0m\u001b[1;33m,\u001b[0m \u001b[0mbeta\u001b[0m\u001b[1;33m=\u001b[0m\u001b[1;36m0.99\u001b[0m\u001b[1;33m,\u001b[0m\u001b[0mepsilon\u001b[0m\u001b[1;33m=\u001b[0m\u001b[1;36m10\u001b[0m\u001b[1;33m**\u001b[0m\u001b[1;33m-\u001b[0m\u001b[1;36m8\u001b[0m\u001b[1;33m,\u001b[0m\u001b[0mnoise_strength\u001b[0m\u001b[1;33m=\u001b[0m\u001b[1;36m0\u001b[0m\u001b[1;33m)\u001b[0m\u001b[1;33m\u001b[0m\u001b[1;33m\u001b[0m\u001b[0m\n\u001b[0m\u001b[0;32m     36\u001b[0m \u001b[0mminimum\u001b[0m \u001b[1;33m=\u001b[0m \u001b[0madam_trajectory1\u001b[0m\u001b[1;33m[\u001b[0m\u001b[1;33m-\u001b[0m\u001b[1;36m1\u001b[0m\u001b[1;33m]\u001b[0m\u001b[1;33m\u001b[0m\u001b[1;33m\u001b[0m\u001b[0m\n\u001b[0;32m     37\u001b[0m \u001b[0mprint\u001b[0m\u001b[1;33m(\u001b[0m\u001b[0mminimum\u001b[0m\u001b[1;33m)\u001b[0m\u001b[1;33m\u001b[0m\u001b[1;33m\u001b[0m\u001b[0m\n",
      "\u001b[1;32m<ipython-input-10-8382a2856b0c>\u001b[0m in \u001b[0;36madams\u001b[1;34m(grad, init, n_epochs, eta, gamma, beta, epsilon, noise_strength)\u001b[0m\n\u001b[0;32m     21\u001b[0m     \u001b[1;32mfor\u001b[0m \u001b[0mj\u001b[0m \u001b[1;32min\u001b[0m \u001b[0mrange\u001b[0m\u001b[1;33m(\u001b[0m\u001b[0mn_epochs\u001b[0m\u001b[1;33m)\u001b[0m\u001b[1;33m:\u001b[0m\u001b[1;33m\u001b[0m\u001b[1;33m\u001b[0m\u001b[0m\n\u001b[0;32m     22\u001b[0m         \u001b[0mnoise\u001b[0m\u001b[1;33m=\u001b[0m\u001b[0mnoise_strength\u001b[0m\u001b[1;33m*\u001b[0m\u001b[0mnp\u001b[0m\u001b[1;33m.\u001b[0m\u001b[0mrandom\u001b[0m\u001b[1;33m.\u001b[0m\u001b[0mrandn\u001b[0m\u001b[1;33m(\u001b[0m\u001b[0mparams\u001b[0m\u001b[1;33m.\u001b[0m\u001b[0msize\u001b[0m\u001b[1;33m)\u001b[0m\u001b[1;33m\u001b[0m\u001b[1;33m\u001b[0m\u001b[0m\n\u001b[1;32m---> 23\u001b[1;33m         \u001b[0mg\u001b[0m\u001b[1;33m=\u001b[0m\u001b[0mnp\u001b[0m\u001b[1;33m.\u001b[0m\u001b[0marray\u001b[0m\u001b[1;33m(\u001b[0m\u001b[0mgrad\u001b[0m\u001b[1;33m(\u001b[0m\u001b[0mparams\u001b[0m\u001b[1;33m)\u001b[0m\u001b[1;33m)\u001b[0m\u001b[1;33m+\u001b[0m\u001b[0mnoise\u001b[0m\u001b[1;33m\u001b[0m\u001b[1;33m\u001b[0m\u001b[0m\n\u001b[0m\u001b[0;32m     24\u001b[0m         \u001b[0mv\u001b[0m\u001b[1;33m=\u001b[0m\u001b[0mgamma\u001b[0m\u001b[1;33m*\u001b[0m\u001b[0mv\u001b[0m\u001b[1;33m+\u001b[0m\u001b[1;33m(\u001b[0m\u001b[1;36m1\u001b[0m\u001b[1;33m-\u001b[0m\u001b[0mgamma\u001b[0m\u001b[1;33m)\u001b[0m\u001b[1;33m*\u001b[0m\u001b[0mg\u001b[0m\u001b[1;33m\u001b[0m\u001b[1;33m\u001b[0m\u001b[0m\n\u001b[0;32m     25\u001b[0m         \u001b[0mgrad_sq\u001b[0m\u001b[1;33m=\u001b[0m\u001b[0mbeta\u001b[0m\u001b[1;33m*\u001b[0m\u001b[0mgrad_sq\u001b[0m\u001b[1;33m+\u001b[0m\u001b[1;33m(\u001b[0m\u001b[1;36m1\u001b[0m\u001b[1;33m-\u001b[0m\u001b[0mbeta\u001b[0m\u001b[1;33m)\u001b[0m\u001b[1;33m*\u001b[0m\u001b[0mg\u001b[0m\u001b[1;33m*\u001b[0m\u001b[0mg\u001b[0m\u001b[1;33m\u001b[0m\u001b[1;33m\u001b[0m\u001b[0m\n",
      "\u001b[1;32m<ipython-input-10-8382a2856b0c>\u001b[0m in \u001b[0;36mgrad\u001b[1;34m(params)\u001b[0m\n\u001b[0;32m     10\u001b[0m         \u001b[0mLs\u001b[0m \u001b[1;33m=\u001b[0m \u001b[1;33m(\u001b[0m\u001b[1;36m1\u001b[0m\u001b[1;33m/\u001b[0m\u001b[0mm\u001b[0m\u001b[1;33m)\u001b[0m \u001b[1;33m*\u001b[0m \u001b[0mnp\u001b[0m\u001b[1;33m.\u001b[0m\u001b[0msum\u001b[0m\u001b[1;33m(\u001b[0m\u001b[0mnp\u001b[0m\u001b[1;33m.\u001b[0m\u001b[0marray\u001b[0m\u001b[1;33m(\u001b[0m\u001b[1;33m[\u001b[0m\u001b[1;33m(\u001b[0m\u001b[0mheston_inner_func\u001b[0m\u001b[1;33m(\u001b[0m\u001b[0mi\u001b[0m\u001b[1;33m)\u001b[0m \u001b[1;33m-\u001b[0m \u001b[0mY_training_heston\u001b[0m\u001b[1;33m[\u001b[0m\u001b[0mi\u001b[0m\u001b[1;33m]\u001b[0m\u001b[1;33m)\u001b[0m\u001b[1;33m**\u001b[0m\u001b[1;36m2\u001b[0m \u001b[1;32mfor\u001b[0m \u001b[0mi\u001b[0m \u001b[1;32min\u001b[0m \u001b[0mrange\u001b[0m\u001b[1;33m(\u001b[0m\u001b[0mm\u001b[0m\u001b[1;33m)\u001b[0m\u001b[1;33m]\u001b[0m\u001b[1;33m)\u001b[0m\u001b[1;33m)\u001b[0m\u001b[1;33m\u001b[0m\u001b[1;33m\u001b[0m\u001b[0m\n\u001b[0;32m     11\u001b[0m         \u001b[1;32mreturn\u001b[0m \u001b[0mLs\u001b[0m\u001b[1;33m\u001b[0m\u001b[1;33m\u001b[0m\u001b[0m\n\u001b[1;32m---> 12\u001b[1;33m     \u001b[0mG\u001b[0m \u001b[1;33m=\u001b[0m \u001b[0mnd\u001b[0m\u001b[1;33m.\u001b[0m\u001b[0mGradient\u001b[0m\u001b[1;33m(\u001b[0m\u001b[0mLs\u001b[0m\u001b[1;33m)\u001b[0m\u001b[1;33m(\u001b[0m\u001b[1;33m[\u001b[0m\u001b[0mparams\u001b[0m\u001b[1;33m[\u001b[0m\u001b[1;36m0\u001b[0m\u001b[1;33m]\u001b[0m\u001b[1;33m,\u001b[0m \u001b[0mparams\u001b[0m\u001b[1;33m[\u001b[0m\u001b[1;36m1\u001b[0m\u001b[1;33m]\u001b[0m\u001b[1;33m,\u001b[0m \u001b[0mparams\u001b[0m\u001b[1;33m[\u001b[0m\u001b[1;36m2\u001b[0m\u001b[1;33m]\u001b[0m\u001b[1;33m,\u001b[0m \u001b[0mparams\u001b[0m\u001b[1;33m[\u001b[0m\u001b[1;36m3\u001b[0m\u001b[1;33m]\u001b[0m\u001b[1;33m]\u001b[0m\u001b[1;33m)\u001b[0m\u001b[1;33m\u001b[0m\u001b[1;33m\u001b[0m\u001b[0m\n\u001b[0m\u001b[0;32m     13\u001b[0m     \u001b[1;32mreturn\u001b[0m \u001b[0mG\u001b[0m\u001b[1;33m\u001b[0m\u001b[1;33m\u001b[0m\u001b[0m\n\u001b[0;32m     14\u001b[0m \u001b[1;33m\u001b[0m\u001b[0m\n",
      "\u001b[1;32m~\\anaconda3\\lib\\site-packages\\numdifftools\\core.py\u001b[0m in \u001b[0;36m__call__\u001b[1;34m(self, x, *args, **kwds)\u001b[0m\n\u001b[0;32m    488\u001b[0m \u001b[1;33m\u001b[0m\u001b[0m\n\u001b[0;32m    489\u001b[0m     \u001b[1;32mdef\u001b[0m \u001b[0m__call__\u001b[0m\u001b[1;33m(\u001b[0m\u001b[0mself\u001b[0m\u001b[1;33m,\u001b[0m \u001b[0mx\u001b[0m\u001b[1;33m,\u001b[0m \u001b[1;33m*\u001b[0m\u001b[0margs\u001b[0m\u001b[1;33m,\u001b[0m \u001b[1;33m**\u001b[0m\u001b[0mkwds\u001b[0m\u001b[1;33m)\u001b[0m\u001b[1;33m:\u001b[0m\u001b[1;33m\u001b[0m\u001b[1;33m\u001b[0m\u001b[0m\n\u001b[1;32m--> 490\u001b[1;33m         \u001b[0mresult\u001b[0m \u001b[1;33m=\u001b[0m \u001b[0msuper\u001b[0m\u001b[1;33m(\u001b[0m\u001b[0mGradient\u001b[0m\u001b[1;33m,\u001b[0m \u001b[0mself\u001b[0m\u001b[1;33m)\u001b[0m\u001b[1;33m.\u001b[0m\u001b[0m__call__\u001b[0m\u001b[1;33m(\u001b[0m\u001b[0mnp\u001b[0m\u001b[1;33m.\u001b[0m\u001b[0matleast_1d\u001b[0m\u001b[1;33m(\u001b[0m\u001b[0mx\u001b[0m\u001b[1;33m)\u001b[0m\u001b[1;33m.\u001b[0m\u001b[0mravel\u001b[0m\u001b[1;33m(\u001b[0m\u001b[1;33m)\u001b[0m\u001b[1;33m,\u001b[0m \u001b[1;33m*\u001b[0m\u001b[0margs\u001b[0m\u001b[1;33m,\u001b[0m \u001b[1;33m**\u001b[0m\u001b[0mkwds\u001b[0m\u001b[1;33m)\u001b[0m\u001b[1;33m\u001b[0m\u001b[1;33m\u001b[0m\u001b[0m\n\u001b[0m\u001b[0;32m    491\u001b[0m         \u001b[1;32mif\u001b[0m \u001b[0mself\u001b[0m\u001b[1;33m.\u001b[0m\u001b[0mfull_output\u001b[0m\u001b[1;33m:\u001b[0m\u001b[1;33m\u001b[0m\u001b[1;33m\u001b[0m\u001b[0m\n\u001b[0;32m    492\u001b[0m             \u001b[1;32mreturn\u001b[0m \u001b[0mresult\u001b[0m\u001b[1;33m[\u001b[0m\u001b[1;36m0\u001b[0m\u001b[1;33m]\u001b[0m\u001b[1;33m.\u001b[0m\u001b[0msqueeze\u001b[0m\u001b[1;33m(\u001b[0m\u001b[1;33m)\u001b[0m\u001b[1;33m,\u001b[0m \u001b[0mresult\u001b[0m\u001b[1;33m[\u001b[0m\u001b[1;36m1\u001b[0m\u001b[1;33m]\u001b[0m\u001b[1;33m\u001b[0m\u001b[1;33m\u001b[0m\u001b[0m\n",
      "\u001b[1;32m~\\anaconda3\\lib\\site-packages\\numdifftools\\core.py\u001b[0m in \u001b[0;36m__call__\u001b[1;34m(self, x, *args, **kwds)\u001b[0m\n\u001b[0;32m    429\u001b[0m \u001b[1;33m\u001b[0m\u001b[0m\n\u001b[0;32m    430\u001b[0m     \u001b[1;32mdef\u001b[0m \u001b[0m__call__\u001b[0m\u001b[1;33m(\u001b[0m\u001b[0mself\u001b[0m\u001b[1;33m,\u001b[0m \u001b[0mx\u001b[0m\u001b[1;33m,\u001b[0m \u001b[1;33m*\u001b[0m\u001b[0margs\u001b[0m\u001b[1;33m,\u001b[0m \u001b[1;33m**\u001b[0m\u001b[0mkwds\u001b[0m\u001b[1;33m)\u001b[0m\u001b[1;33m:\u001b[0m\u001b[1;33m\u001b[0m\u001b[1;33m\u001b[0m\u001b[0m\n\u001b[1;32m--> 431\u001b[1;33m         \u001b[1;32mreturn\u001b[0m \u001b[0msuper\u001b[0m\u001b[1;33m(\u001b[0m\u001b[0mJacobian\u001b[0m\u001b[1;33m,\u001b[0m \u001b[0mself\u001b[0m\u001b[1;33m)\u001b[0m\u001b[1;33m.\u001b[0m\u001b[0m__call__\u001b[0m\u001b[1;33m(\u001b[0m\u001b[0mnp\u001b[0m\u001b[1;33m.\u001b[0m\u001b[0matleast_1d\u001b[0m\u001b[1;33m(\u001b[0m\u001b[0mx\u001b[0m\u001b[1;33m)\u001b[0m\u001b[1;33m,\u001b[0m \u001b[1;33m*\u001b[0m\u001b[0margs\u001b[0m\u001b[1;33m,\u001b[0m \u001b[1;33m**\u001b[0m\u001b[0mkwds\u001b[0m\u001b[1;33m)\u001b[0m\u001b[1;33m\u001b[0m\u001b[1;33m\u001b[0m\u001b[0m\n\u001b[0m\u001b[0;32m    432\u001b[0m \u001b[1;33m\u001b[0m\u001b[0m\n\u001b[0;32m    433\u001b[0m \u001b[1;33m\u001b[0m\u001b[0m\n",
      "\u001b[1;32m~\\anaconda3\\lib\\site-packages\\numdifftools\\core.py\u001b[0m in \u001b[0;36m__call__\u001b[1;34m(self, x, *args, **kwds)\u001b[0m\n\u001b[0;32m    286\u001b[0m         \u001b[0mx_i\u001b[0m \u001b[1;33m=\u001b[0m \u001b[0mnp\u001b[0m\u001b[1;33m.\u001b[0m\u001b[0masarray\u001b[0m\u001b[1;33m(\u001b[0m\u001b[0mx\u001b[0m\u001b[1;33m)\u001b[0m\u001b[1;33m\u001b[0m\u001b[1;33m\u001b[0m\u001b[0m\n\u001b[0;32m    287\u001b[0m         \u001b[1;32mwith\u001b[0m \u001b[0mnp\u001b[0m\u001b[1;33m.\u001b[0m\u001b[0merrstate\u001b[0m\u001b[1;33m(\u001b[0m\u001b[0mdivide\u001b[0m\u001b[1;33m=\u001b[0m\u001b[1;34m'ignore'\u001b[0m\u001b[1;33m,\u001b[0m \u001b[0minvalid\u001b[0m\u001b[1;33m=\u001b[0m\u001b[1;34m'ignore'\u001b[0m\u001b[1;33m)\u001b[0m\u001b[1;33m:\u001b[0m\u001b[1;33m\u001b[0m\u001b[1;33m\u001b[0m\u001b[0m\n\u001b[1;32m--> 288\u001b[1;33m             \u001b[0mresults\u001b[0m\u001b[1;33m,\u001b[0m \u001b[0mf_xi\u001b[0m \u001b[1;33m=\u001b[0m \u001b[0mself\u001b[0m\u001b[1;33m.\u001b[0m\u001b[0m_derivative\u001b[0m\u001b[1;33m(\u001b[0m\u001b[0mx_i\u001b[0m\u001b[1;33m,\u001b[0m \u001b[0margs\u001b[0m\u001b[1;33m,\u001b[0m \u001b[0mkwds\u001b[0m\u001b[1;33m)\u001b[0m\u001b[1;33m\u001b[0m\u001b[1;33m\u001b[0m\u001b[0m\n\u001b[0m\u001b[0;32m    289\u001b[0m             \u001b[0mderivative\u001b[0m\u001b[1;33m,\u001b[0m \u001b[0minfo\u001b[0m \u001b[1;33m=\u001b[0m \u001b[0mself\u001b[0m\u001b[1;33m.\u001b[0m\u001b[0m_extrapolate\u001b[0m\u001b[1;33m(\u001b[0m\u001b[1;33m*\u001b[0m\u001b[0mresults\u001b[0m\u001b[1;33m)\u001b[0m\u001b[1;33m\u001b[0m\u001b[1;33m\u001b[0m\u001b[0m\n\u001b[0;32m    290\u001b[0m         \u001b[1;32mif\u001b[0m \u001b[0mself\u001b[0m\u001b[1;33m.\u001b[0m\u001b[0mfull_output\u001b[0m\u001b[1;33m:\u001b[0m\u001b[1;33m\u001b[0m\u001b[1;33m\u001b[0m\u001b[0m\n",
      "\u001b[1;32m~\\anaconda3\\lib\\site-packages\\numdifftools\\core.py\u001b[0m in \u001b[0;36m_derivative_nonzero_order\u001b[1;34m(self, x_i, args, kwds)\u001b[0m\n\u001b[0;32m    421\u001b[0m         \u001b[0msteps\u001b[0m\u001b[1;33m,\u001b[0m \u001b[0mstep_ratio\u001b[0m \u001b[1;33m=\u001b[0m \u001b[0mself\u001b[0m\u001b[1;33m.\u001b[0m\u001b[0m_get_steps\u001b[0m\u001b[1;33m(\u001b[0m\u001b[0mx_i\u001b[0m\u001b[1;33m)\u001b[0m\u001b[1;33m\u001b[0m\u001b[1;33m\u001b[0m\u001b[0m\n\u001b[0;32m    422\u001b[0m         \u001b[0mfxi\u001b[0m \u001b[1;33m=\u001b[0m \u001b[0mf\u001b[0m\u001b[1;33m(\u001b[0m\u001b[0mx_i\u001b[0m\u001b[1;33m)\u001b[0m\u001b[1;33m\u001b[0m\u001b[1;33m\u001b[0m\u001b[0m\n\u001b[1;32m--> 423\u001b[1;33m         \u001b[0mresults\u001b[0m \u001b[1;33m=\u001b[0m \u001b[1;33m[\u001b[0m\u001b[0mdiff\u001b[0m\u001b[1;33m(\u001b[0m\u001b[0mf\u001b[0m\u001b[1;33m,\u001b[0m \u001b[0mfxi\u001b[0m\u001b[1;33m,\u001b[0m \u001b[0mx_i\u001b[0m\u001b[1;33m,\u001b[0m \u001b[0mh\u001b[0m\u001b[1;33m)\u001b[0m \u001b[1;32mfor\u001b[0m \u001b[0mh\u001b[0m \u001b[1;32min\u001b[0m \u001b[0msteps\u001b[0m\u001b[1;33m]\u001b[0m\u001b[1;33m\u001b[0m\u001b[1;33m\u001b[0m\u001b[0m\n\u001b[0m\u001b[0;32m    424\u001b[0m \u001b[1;33m\u001b[0m\u001b[0m\n\u001b[0;32m    425\u001b[0m         \u001b[0msteps2\u001b[0m \u001b[1;33m=\u001b[0m \u001b[0mself\u001b[0m\u001b[1;33m.\u001b[0m\u001b[0m_expand_steps\u001b[0m\u001b[1;33m(\u001b[0m\u001b[0msteps\u001b[0m\u001b[1;33m,\u001b[0m \u001b[0mx_i\u001b[0m\u001b[1;33m,\u001b[0m \u001b[0mfxi\u001b[0m\u001b[1;33m)\u001b[0m\u001b[1;33m\u001b[0m\u001b[1;33m\u001b[0m\u001b[0m\n",
      "\u001b[1;32m~\\anaconda3\\lib\\site-packages\\numdifftools\\core.py\u001b[0m in \u001b[0;36m<listcomp>\u001b[1;34m(.0)\u001b[0m\n\u001b[0;32m    421\u001b[0m         \u001b[0msteps\u001b[0m\u001b[1;33m,\u001b[0m \u001b[0mstep_ratio\u001b[0m \u001b[1;33m=\u001b[0m \u001b[0mself\u001b[0m\u001b[1;33m.\u001b[0m\u001b[0m_get_steps\u001b[0m\u001b[1;33m(\u001b[0m\u001b[0mx_i\u001b[0m\u001b[1;33m)\u001b[0m\u001b[1;33m\u001b[0m\u001b[1;33m\u001b[0m\u001b[0m\n\u001b[0;32m    422\u001b[0m         \u001b[0mfxi\u001b[0m \u001b[1;33m=\u001b[0m \u001b[0mf\u001b[0m\u001b[1;33m(\u001b[0m\u001b[0mx_i\u001b[0m\u001b[1;33m)\u001b[0m\u001b[1;33m\u001b[0m\u001b[1;33m\u001b[0m\u001b[0m\n\u001b[1;32m--> 423\u001b[1;33m         \u001b[0mresults\u001b[0m \u001b[1;33m=\u001b[0m \u001b[1;33m[\u001b[0m\u001b[0mdiff\u001b[0m\u001b[1;33m(\u001b[0m\u001b[0mf\u001b[0m\u001b[1;33m,\u001b[0m \u001b[0mfxi\u001b[0m\u001b[1;33m,\u001b[0m \u001b[0mx_i\u001b[0m\u001b[1;33m,\u001b[0m \u001b[0mh\u001b[0m\u001b[1;33m)\u001b[0m \u001b[1;32mfor\u001b[0m \u001b[0mh\u001b[0m \u001b[1;32min\u001b[0m \u001b[0msteps\u001b[0m\u001b[1;33m]\u001b[0m\u001b[1;33m\u001b[0m\u001b[1;33m\u001b[0m\u001b[0m\n\u001b[0m\u001b[0;32m    424\u001b[0m \u001b[1;33m\u001b[0m\u001b[0m\n\u001b[0;32m    425\u001b[0m         \u001b[0msteps2\u001b[0m \u001b[1;33m=\u001b[0m \u001b[0mself\u001b[0m\u001b[1;33m.\u001b[0m\u001b[0m_expand_steps\u001b[0m\u001b[1;33m(\u001b[0m\u001b[0msteps\u001b[0m\u001b[1;33m,\u001b[0m \u001b[0mx_i\u001b[0m\u001b[1;33m,\u001b[0m \u001b[0mfxi\u001b[0m\u001b[1;33m)\u001b[0m\u001b[1;33m\u001b[0m\u001b[1;33m\u001b[0m\u001b[0m\n",
      "\u001b[1;32m~\\anaconda3\\lib\\site-packages\\numdifftools\\finite_difference.py\u001b[0m in \u001b[0;36m_central\u001b[1;34m(f, f_x, x, h)\u001b[0m\n\u001b[0;32m    120\u001b[0m         \u001b[0mn\u001b[0m \u001b[1;33m=\u001b[0m \u001b[0mlen\u001b[0m\u001b[1;33m(\u001b[0m\u001b[0mx\u001b[0m\u001b[1;33m)\u001b[0m\u001b[1;33m\u001b[0m\u001b[1;33m\u001b[0m\u001b[0m\n\u001b[0;32m    121\u001b[0m         \u001b[0msteps\u001b[0m \u001b[1;33m=\u001b[0m \u001b[0mJacobianDifferenceFunctions\u001b[0m\u001b[1;33m.\u001b[0m\u001b[0mincrements\u001b[0m\u001b[1;33m(\u001b[0m\u001b[0mn\u001b[0m\u001b[1;33m,\u001b[0m \u001b[0mh\u001b[0m\u001b[1;33m)\u001b[0m\u001b[1;33m\u001b[0m\u001b[1;33m\u001b[0m\u001b[0m\n\u001b[1;32m--> 122\u001b[1;33m         \u001b[1;32mreturn\u001b[0m \u001b[0mnp\u001b[0m\u001b[1;33m.\u001b[0m\u001b[0marray\u001b[0m\u001b[1;33m(\u001b[0m\u001b[1;33m[\u001b[0m\u001b[1;33m(\u001b[0m\u001b[0mf\u001b[0m\u001b[1;33m(\u001b[0m\u001b[0mx\u001b[0m \u001b[1;33m+\u001b[0m \u001b[0mhi\u001b[0m\u001b[1;33m)\u001b[0m \u001b[1;33m-\u001b[0m \u001b[0mf\u001b[0m\u001b[1;33m(\u001b[0m\u001b[0mx\u001b[0m \u001b[1;33m-\u001b[0m \u001b[0mhi\u001b[0m\u001b[1;33m)\u001b[0m\u001b[1;33m)\u001b[0m \u001b[1;33m/\u001b[0m \u001b[1;36m2.0\u001b[0m \u001b[1;32mfor\u001b[0m \u001b[0mhi\u001b[0m \u001b[1;32min\u001b[0m \u001b[0msteps\u001b[0m\u001b[1;33m]\u001b[0m\u001b[1;33m)\u001b[0m\u001b[1;33m\u001b[0m\u001b[1;33m\u001b[0m\u001b[0m\n\u001b[0m\u001b[0;32m    123\u001b[0m \u001b[1;33m\u001b[0m\u001b[0m\n\u001b[0;32m    124\u001b[0m     \u001b[1;33m@\u001b[0m\u001b[0mstaticmethod\u001b[0m\u001b[1;33m\u001b[0m\u001b[1;33m\u001b[0m\u001b[0m\n",
      "\u001b[1;32m~\\anaconda3\\lib\\site-packages\\numdifftools\\finite_difference.py\u001b[0m in \u001b[0;36m<listcomp>\u001b[1;34m(.0)\u001b[0m\n\u001b[0;32m    120\u001b[0m         \u001b[0mn\u001b[0m \u001b[1;33m=\u001b[0m \u001b[0mlen\u001b[0m\u001b[1;33m(\u001b[0m\u001b[0mx\u001b[0m\u001b[1;33m)\u001b[0m\u001b[1;33m\u001b[0m\u001b[1;33m\u001b[0m\u001b[0m\n\u001b[0;32m    121\u001b[0m         \u001b[0msteps\u001b[0m \u001b[1;33m=\u001b[0m \u001b[0mJacobianDifferenceFunctions\u001b[0m\u001b[1;33m.\u001b[0m\u001b[0mincrements\u001b[0m\u001b[1;33m(\u001b[0m\u001b[0mn\u001b[0m\u001b[1;33m,\u001b[0m \u001b[0mh\u001b[0m\u001b[1;33m)\u001b[0m\u001b[1;33m\u001b[0m\u001b[1;33m\u001b[0m\u001b[0m\n\u001b[1;32m--> 122\u001b[1;33m         \u001b[1;32mreturn\u001b[0m \u001b[0mnp\u001b[0m\u001b[1;33m.\u001b[0m\u001b[0marray\u001b[0m\u001b[1;33m(\u001b[0m\u001b[1;33m[\u001b[0m\u001b[1;33m(\u001b[0m\u001b[0mf\u001b[0m\u001b[1;33m(\u001b[0m\u001b[0mx\u001b[0m \u001b[1;33m+\u001b[0m \u001b[0mhi\u001b[0m\u001b[1;33m)\u001b[0m \u001b[1;33m-\u001b[0m \u001b[0mf\u001b[0m\u001b[1;33m(\u001b[0m\u001b[0mx\u001b[0m \u001b[1;33m-\u001b[0m \u001b[0mhi\u001b[0m\u001b[1;33m)\u001b[0m\u001b[1;33m)\u001b[0m \u001b[1;33m/\u001b[0m \u001b[1;36m2.0\u001b[0m \u001b[1;32mfor\u001b[0m \u001b[0mhi\u001b[0m \u001b[1;32min\u001b[0m \u001b[0msteps\u001b[0m\u001b[1;33m]\u001b[0m\u001b[1;33m)\u001b[0m\u001b[1;33m\u001b[0m\u001b[1;33m\u001b[0m\u001b[0m\n\u001b[0m\u001b[0;32m    123\u001b[0m \u001b[1;33m\u001b[0m\u001b[0m\n\u001b[0;32m    124\u001b[0m     \u001b[1;33m@\u001b[0m\u001b[0mstaticmethod\u001b[0m\u001b[1;33m\u001b[0m\u001b[1;33m\u001b[0m\u001b[0m\n",
      "\u001b[1;32m~\\anaconda3\\lib\\site-packages\\numdifftools\\core.py\u001b[0m in \u001b[0;36mexport_fun\u001b[1;34m(x)\u001b[0m\n\u001b[0;32m    255\u001b[0m \u001b[1;33m\u001b[0m\u001b[0m\n\u001b[0;32m    256\u001b[0m         \u001b[1;32mdef\u001b[0m \u001b[0mexport_fun\u001b[0m\u001b[1;33m(\u001b[0m\u001b[0mx\u001b[0m\u001b[1;33m)\u001b[0m\u001b[1;33m:\u001b[0m\u001b[1;33m\u001b[0m\u001b[1;33m\u001b[0m\u001b[0m\n\u001b[1;32m--> 257\u001b[1;33m             \u001b[1;32mreturn\u001b[0m \u001b[0mfun\u001b[0m\u001b[1;33m(\u001b[0m\u001b[0mx\u001b[0m\u001b[1;33m,\u001b[0m \u001b[1;33m*\u001b[0m\u001b[0margs\u001b[0m\u001b[1;33m,\u001b[0m \u001b[1;33m**\u001b[0m\u001b[0mkwds\u001b[0m\u001b[1;33m)\u001b[0m\u001b[1;33m\u001b[0m\u001b[1;33m\u001b[0m\u001b[0m\n\u001b[0m\u001b[0;32m    258\u001b[0m \u001b[1;33m\u001b[0m\u001b[0m\n\u001b[0;32m    259\u001b[0m         \u001b[1;32mreturn\u001b[0m \u001b[0mself\u001b[0m\u001b[1;33m.\u001b[0m\u001b[0mfd_rule\u001b[0m\u001b[1;33m.\u001b[0m\u001b[0mdiff\u001b[0m\u001b[1;33m,\u001b[0m \u001b[0mexport_fun\u001b[0m\u001b[1;33m\u001b[0m\u001b[1;33m\u001b[0m\u001b[0m\n",
      "\u001b[1;32m<ipython-input-10-8382a2856b0c>\u001b[0m in \u001b[0;36mLs\u001b[1;34m(X)\u001b[0m\n\u001b[0;32m      8\u001b[0m                          X[3] * np.sqrt(X_training_heston[i]) * WT + .25 * X[3]**2 * (WT**2 - 1))\n\u001b[0;32m      9\u001b[0m             \u001b[1;32mreturn\u001b[0m \u001b[0mV1\u001b[0m\u001b[1;33m\u001b[0m\u001b[1;33m\u001b[0m\u001b[0m\n\u001b[1;32m---> 10\u001b[1;33m         \u001b[0mLs\u001b[0m \u001b[1;33m=\u001b[0m \u001b[1;33m(\u001b[0m\u001b[1;36m1\u001b[0m\u001b[1;33m/\u001b[0m\u001b[0mm\u001b[0m\u001b[1;33m)\u001b[0m \u001b[1;33m*\u001b[0m \u001b[0mnp\u001b[0m\u001b[1;33m.\u001b[0m\u001b[0msum\u001b[0m\u001b[1;33m(\u001b[0m\u001b[0mnp\u001b[0m\u001b[1;33m.\u001b[0m\u001b[0marray\u001b[0m\u001b[1;33m(\u001b[0m\u001b[1;33m[\u001b[0m\u001b[1;33m(\u001b[0m\u001b[0mheston_inner_func\u001b[0m\u001b[1;33m(\u001b[0m\u001b[0mi\u001b[0m\u001b[1;33m)\u001b[0m \u001b[1;33m-\u001b[0m \u001b[0mY_training_heston\u001b[0m\u001b[1;33m[\u001b[0m\u001b[0mi\u001b[0m\u001b[1;33m]\u001b[0m\u001b[1;33m)\u001b[0m\u001b[1;33m**\u001b[0m\u001b[1;36m2\u001b[0m \u001b[1;32mfor\u001b[0m \u001b[0mi\u001b[0m \u001b[1;32min\u001b[0m \u001b[0mrange\u001b[0m\u001b[1;33m(\u001b[0m\u001b[0mm\u001b[0m\u001b[1;33m)\u001b[0m\u001b[1;33m]\u001b[0m\u001b[1;33m)\u001b[0m\u001b[1;33m)\u001b[0m\u001b[1;33m\u001b[0m\u001b[1;33m\u001b[0m\u001b[0m\n\u001b[0m\u001b[0;32m     11\u001b[0m         \u001b[1;32mreturn\u001b[0m \u001b[0mLs\u001b[0m\u001b[1;33m\u001b[0m\u001b[1;33m\u001b[0m\u001b[0m\n\u001b[0;32m     12\u001b[0m     \u001b[0mG\u001b[0m \u001b[1;33m=\u001b[0m \u001b[0mnd\u001b[0m\u001b[1;33m.\u001b[0m\u001b[0mGradient\u001b[0m\u001b[1;33m(\u001b[0m\u001b[0mLs\u001b[0m\u001b[1;33m)\u001b[0m\u001b[1;33m(\u001b[0m\u001b[1;33m[\u001b[0m\u001b[0mparams\u001b[0m\u001b[1;33m[\u001b[0m\u001b[1;36m0\u001b[0m\u001b[1;33m]\u001b[0m\u001b[1;33m,\u001b[0m \u001b[0mparams\u001b[0m\u001b[1;33m[\u001b[0m\u001b[1;36m1\u001b[0m\u001b[1;33m]\u001b[0m\u001b[1;33m,\u001b[0m \u001b[0mparams\u001b[0m\u001b[1;33m[\u001b[0m\u001b[1;36m2\u001b[0m\u001b[1;33m]\u001b[0m\u001b[1;33m,\u001b[0m \u001b[0mparams\u001b[0m\u001b[1;33m[\u001b[0m\u001b[1;36m3\u001b[0m\u001b[1;33m]\u001b[0m\u001b[1;33m]\u001b[0m\u001b[1;33m)\u001b[0m\u001b[1;33m\u001b[0m\u001b[1;33m\u001b[0m\u001b[0m\n",
      "\u001b[1;32m<ipython-input-10-8382a2856b0c>\u001b[0m in \u001b[0;36m<listcomp>\u001b[1;34m(.0)\u001b[0m\n\u001b[0;32m      8\u001b[0m                          X[3] * np.sqrt(X_training_heston[i]) * WT + .25 * X[3]**2 * (WT**2 - 1))\n\u001b[0;32m      9\u001b[0m             \u001b[1;32mreturn\u001b[0m \u001b[0mV1\u001b[0m\u001b[1;33m\u001b[0m\u001b[1;33m\u001b[0m\u001b[0m\n\u001b[1;32m---> 10\u001b[1;33m         \u001b[0mLs\u001b[0m \u001b[1;33m=\u001b[0m \u001b[1;33m(\u001b[0m\u001b[1;36m1\u001b[0m\u001b[1;33m/\u001b[0m\u001b[0mm\u001b[0m\u001b[1;33m)\u001b[0m \u001b[1;33m*\u001b[0m \u001b[0mnp\u001b[0m\u001b[1;33m.\u001b[0m\u001b[0msum\u001b[0m\u001b[1;33m(\u001b[0m\u001b[0mnp\u001b[0m\u001b[1;33m.\u001b[0m\u001b[0marray\u001b[0m\u001b[1;33m(\u001b[0m\u001b[1;33m[\u001b[0m\u001b[1;33m(\u001b[0m\u001b[0mheston_inner_func\u001b[0m\u001b[1;33m(\u001b[0m\u001b[0mi\u001b[0m\u001b[1;33m)\u001b[0m \u001b[1;33m-\u001b[0m \u001b[0mY_training_heston\u001b[0m\u001b[1;33m[\u001b[0m\u001b[0mi\u001b[0m\u001b[1;33m]\u001b[0m\u001b[1;33m)\u001b[0m\u001b[1;33m**\u001b[0m\u001b[1;36m2\u001b[0m \u001b[1;32mfor\u001b[0m \u001b[0mi\u001b[0m \u001b[1;32min\u001b[0m \u001b[0mrange\u001b[0m\u001b[1;33m(\u001b[0m\u001b[0mm\u001b[0m\u001b[1;33m)\u001b[0m\u001b[1;33m]\u001b[0m\u001b[1;33m)\u001b[0m\u001b[1;33m)\u001b[0m\u001b[1;33m\u001b[0m\u001b[1;33m\u001b[0m\u001b[0m\n\u001b[0m\u001b[0;32m     11\u001b[0m         \u001b[1;32mreturn\u001b[0m \u001b[0mLs\u001b[0m\u001b[1;33m\u001b[0m\u001b[1;33m\u001b[0m\u001b[0m\n\u001b[0;32m     12\u001b[0m     \u001b[0mG\u001b[0m \u001b[1;33m=\u001b[0m \u001b[0mnd\u001b[0m\u001b[1;33m.\u001b[0m\u001b[0mGradient\u001b[0m\u001b[1;33m(\u001b[0m\u001b[0mLs\u001b[0m\u001b[1;33m)\u001b[0m\u001b[1;33m(\u001b[0m\u001b[1;33m[\u001b[0m\u001b[0mparams\u001b[0m\u001b[1;33m[\u001b[0m\u001b[1;36m0\u001b[0m\u001b[1;33m]\u001b[0m\u001b[1;33m,\u001b[0m \u001b[0mparams\u001b[0m\u001b[1;33m[\u001b[0m\u001b[1;36m1\u001b[0m\u001b[1;33m]\u001b[0m\u001b[1;33m,\u001b[0m \u001b[0mparams\u001b[0m\u001b[1;33m[\u001b[0m\u001b[1;36m2\u001b[0m\u001b[1;33m]\u001b[0m\u001b[1;33m,\u001b[0m \u001b[0mparams\u001b[0m\u001b[1;33m[\u001b[0m\u001b[1;36m3\u001b[0m\u001b[1;33m]\u001b[0m\u001b[1;33m]\u001b[0m\u001b[1;33m)\u001b[0m\u001b[1;33m\u001b[0m\u001b[1;33m\u001b[0m\u001b[0m\n",
      "\u001b[1;32m<ipython-input-10-8382a2856b0c>\u001b[0m in \u001b[0;36mheston_inner_func\u001b[1;34m(i)\u001b[0m\n\u001b[0;32m      4\u001b[0m     \u001b[1;32mdef\u001b[0m \u001b[0mLs\u001b[0m\u001b[1;33m(\u001b[0m\u001b[0mX\u001b[0m\u001b[1;33m)\u001b[0m\u001b[1;33m:\u001b[0m\u001b[1;33m\u001b[0m\u001b[1;33m\u001b[0m\u001b[0m\n\u001b[0;32m      5\u001b[0m         \u001b[1;32mdef\u001b[0m \u001b[0mheston_inner_func\u001b[0m\u001b[1;33m(\u001b[0m\u001b[0mi\u001b[0m\u001b[1;33m)\u001b[0m\u001b[1;33m:\u001b[0m   \u001b[1;31m#calculates the predicted lable for each training sample\u001b[0m\u001b[1;33m\u001b[0m\u001b[1;33m\u001b[0m\u001b[0m\n\u001b[1;32m----> 6\u001b[1;33m             \u001b[0mWT\u001b[0m  \u001b[1;33m=\u001b[0m \u001b[0mnp\u001b[0m\u001b[1;33m.\u001b[0m\u001b[0mrandom\u001b[0m\u001b[1;33m.\u001b[0m\u001b[0mmultivariate_normal\u001b[0m\u001b[1;33m(\u001b[0m\u001b[0mnp\u001b[0m\u001b[1;33m.\u001b[0m\u001b[0marray\u001b[0m\u001b[1;33m(\u001b[0m\u001b[1;33m[\u001b[0m\u001b[1;36m0\u001b[0m\u001b[1;33m,\u001b[0m \u001b[1;36m0\u001b[0m\u001b[1;33m]\u001b[0m\u001b[1;33m)\u001b[0m\u001b[1;33m,\u001b[0m \u001b[0mnp\u001b[0m\u001b[1;33m.\u001b[0m\u001b[0marray\u001b[0m\u001b[1;33m(\u001b[0m\u001b[1;33m[\u001b[0m\u001b[1;33m[\u001b[0m\u001b[1;36m1\u001b[0m\u001b[1;33m,\u001b[0m \u001b[0mX\u001b[0m\u001b[1;33m[\u001b[0m\u001b[1;36m0\u001b[0m\u001b[1;33m]\u001b[0m\u001b[1;33m]\u001b[0m\u001b[1;33m,\u001b[0m \u001b[1;33m[\u001b[0m\u001b[0mX\u001b[0m\u001b[1;33m[\u001b[0m\u001b[1;36m0\u001b[0m\u001b[1;33m]\u001b[0m\u001b[1;33m,\u001b[0m \u001b[1;36m1\u001b[0m\u001b[1;33m]\u001b[0m\u001b[1;33m]\u001b[0m\u001b[1;33m)\u001b[0m\u001b[1;33m)\u001b[0m\u001b[1;33m[\u001b[0m\u001b[1;36m1\u001b[0m\u001b[1;33m]\u001b[0m\u001b[1;33m\u001b[0m\u001b[1;33m\u001b[0m\u001b[0m\n\u001b[0m\u001b[0;32m      7\u001b[0m             V1 =  np.abs(X_training_heston[i] + X[1] * (X[2] - X_training_heston[i]) * 1 + \n\u001b[0;32m      8\u001b[0m                          X[3] * np.sqrt(X_training_heston[i]) * WT + .25 * X[3]**2 * (WT**2 - 1))\n",
      "\u001b[1;31mKeyboardInterrupt\u001b[0m: "
     ]
    }
   ],
   "source": [
    "\"\"\"ERM: Empirical Risk Minimization, Using Adam optimizer\"\"\"\n",
    "def grad(params):\n",
    "    m=len(X_training_heston)  #Training set size\n",
    "    def Ls(X):\n",
    "        def heston_inner_func(i):   #calculates the predicted lable for each training sample\n",
    "            WT  = np.random.multivariate_normal(np.array([0, 0]), np.array([[1, X[0]], [X[0], 1]]))[1]\n",
    "            V1 =  np.abs(X_training_heston[i] + X[1] * (X[2] - X_training_heston[i]) * 1 + \n",
    "                         X[3] * np.sqrt(X_training_heston[i]) * WT + .25 * X[3]**2 * (WT**2 - 1))\n",
    "            return V1\n",
    "        Ls = (1/m) * np.sum(np.array([(heston_inner_func(i) - Y_training_heston[i])**2 for i in range(m)]))\n",
    "        return Ls\n",
    "    G = nd.Gradient(Ls)([params[0], params[1], params[2], params[3]])\n",
    "    return G\n",
    "\n",
    "def adams(grad, init, n_epochs=5000, eta=10**-4, gamma=0.9, beta=0.99,epsilon=10**-8,noise_strength=0):\n",
    "    params=np.array(init)\n",
    "    param_traj=np.zeros([n_epochs+1,4])\n",
    "    param_traj[0,]=init\n",
    "    v=0;\n",
    "    grad_sq=0;\n",
    "    for j in range(n_epochs):\n",
    "        noise=noise_strength*np.random.randn(params.size)\n",
    "        g=np.array(grad(params))+noise\n",
    "        v=gamma*v+(1-gamma)*g\n",
    "        grad_sq=beta*grad_sq+(1-beta)*g*g\n",
    "        v_hat=v/(1-gamma)\n",
    "        grad_sq_hat=grad_sq/(1-beta)\n",
    "        params=params-eta*np.divide(v_hat,np.sqrt(grad_sq_hat+epsilon))\n",
    "        param_traj[j+1,]=params\n",
    "    return param_traj\n",
    "\n",
    "Nsteps=10\n",
    "lr_l=0.1\n",
    "init1 = np.array([-0.7,0.5,0,1.5])\n",
    "adam_trajectory1=adams(grad,init1,Nsteps,eta=lr_l, gamma=0.9, beta=0.99,epsilon=10**-8,noise_strength=0)\n",
    "minimum = adam_trajectory1[-1]\n",
    "print(minimum)"
   ]
  },
  {
   "cell_type": "code",
   "execution_count": null,
   "id": "622cf619",
   "metadata": {},
   "outputs": [],
   "source": [
    "\"\"\"Qualitative Analysis of the Loss Function\"\"\"\n",
    "#In this section we try to plot Loss fucntion(with reduced dimensions) to see what's going on\n",
    "def Ls(X, Y, kappa, rho):\n",
    "    def heston_inner_func(i):   #calculates the predicted lable for each training sample\n",
    "        WT  = np.random.multivariate_normal(np.array([0, 0]), np.array([[1, rho], [rho, 1]]))[1]\n",
    "        V1 =  np.abs(X_training_heston[i] + kappa * (X - X_training_heston[i]) * 1 + \n",
    "                     Y * np.sqrt(X_training_heston[i]) * WT + .25 * Y**2 * (WT**2 - 1))\n",
    "        return V1\n",
    "    Ls = (1/m) * np.sum(np.array([(heston_inner_func(i) - Y_training_heston[i])**2 for i in range(m)]))\n",
    "    return Ls\n",
    "\n",
    "Z=[[] for i in range(12)]\n",
    "for x in np.linspace(-4,4,8):\n",
    "    for y in np.linspace(-4,4,8):\n",
    "        Z[0].append(Ls(x,y,0, -0.7))\n",
    "        Z[1].append(Ls(x,y,0.2,  -0.7 ))\n",
    "        Z[2].append(Ls(x,y,0.7, -0.7 ))\n",
    "        \n",
    "        Z[3].append(Ls(x,y,0, -0.2))\n",
    "        Z[4].append(Ls(x,y,0.2, -0.2))\n",
    "        Z[5].append(Ls(x,y,0.7, -0.2))\n",
    "        \n",
    "        Z[6].append(Ls(x,y,0, 0.2))\n",
    "        Z[7].append(Ls(x,y,0.2,0.2))\n",
    "        Z[8].append(Ls(x,y,0.7, 0.2))\n",
    "            \n",
    "        Z[9].append(Ls(x,y ,0 ,0.7))\n",
    "        Z[10].append(Ls(x,y,0.2 ,0.7))\n",
    "        Z[11].append(Ls(x,y,0.7 ,0.7))  "
   ]
  },
  {
   "cell_type": "code",
   "execution_count": null,
   "id": "533d3050",
   "metadata": {},
   "outputs": [],
   "source": [
    "\"\"\"Plotting the Loss Function in 3D\"\"\"\n",
    "x = np.linspace(-4,4,8)\n",
    "y = np.linspace(-4,4,8)\n",
    "X,Y = np.meshgrid(x,y)\n",
    "X =  np.ravel(X)\n",
    "Y =  np.ravel(Y)\n",
    "\n",
    "# fig, ax1 = plt.subplots( subplot_kw={\"projection\": \"3d\"}, figsize=(10,10))\n",
    "fig, ([ax1, ax2], [ax3, ax4]) = plt.subplots(2,2, subplot_kw={\"projection\": \"3d\"}, figsize=(15,15))\n",
    "ax1.plot_trisurf(X,Y,Z[0])\n",
    "ax1.plot_trisurf(X,Y,Z[1], label = \"-0.5\")\n",
    "ax1.plot_trisurf(X,Y,Z[2], label = \"0\")\n",
    "ax1.set_title('rho = -0.5', color ='white')\n",
    "ax1.set_ylabel('Theta')\n",
    "ax1.set_xlabel('Sigma')\n",
    "ax1.set_zlabel('Ls')\n",
    "# ax.legend(loc=\"best\")\n",
    "ax1.set_facecolor(\"gray\")\n",
    "\n",
    "ax2.plot_trisurf(X,Y,Z[3], label = \"0.5\")\n",
    "ax2.plot_trisurf(X,Y,Z[4], label = \"-0.5\")\n",
    "ax2.plot_trisurf(X,Y,Z[5], label = \"0\")\n",
    "ax2.set_title('rho=-0.1', color ='white')\n",
    "ax2.set_ylabel('Theta')\n",
    "ax2.set_xlabel('Sigma')\n",
    "ax2.set_zlabel('Ls')\n",
    "# ax.legend(loc=\"best\")\n",
    "ax2.set_facecolor(\"gray\")\n",
    "\n",
    "ax3.plot_trisurf(X,Y,Z[6], label = \"0.5\")\n",
    "ax3.plot_trisurf(X,Y,Z[7], label = \"-0.5\")\n",
    "ax3.plot_trisurf(X,Y,Z[8], label = \"0\")\n",
    "ax3.set_title('rho= 0', color ='white')\n",
    "ax3.set_ylabel('Theta')\n",
    "ax3.set_xlabel('Sigma')\n",
    "ax3.set_zlabel('Ls')\n",
    "# ax.legend(loc=\"best\")\n",
    "ax3.set_facecolor(\"gray\")\n",
    "\n",
    "ax4.plot_trisurf(X,Y,Z[9], label = \"0.5\")\n",
    "ax4.plot_trisurf(X,Y,Z[10], label = \"-0.5\")\n",
    "ax4.plot_trisurf(X,Y,Z[11], label = \"0\")\n",
    "ax4.set_title('rho=0.5', color ='white')\n",
    "ax4.set_xlabel('Sigma')\n",
    "ax4.set_ylabel('Theta')\n",
    "ax4.set_zlabel('Ls')\n",
    "# ax.legend(loc=\"best\")\n",
    "ax4.set_facecolor(\"gray\")\n",
    "fig.suptitle('Heston 5-d Loss Funcion divided in 3-d seperate plots',color='white', fontsize=16)\n",
    "plt.show()"
   ]
  },
  {
   "cell_type": "code",
   "execution_count": null,
   "id": "d162786b",
   "metadata": {
    "scrolled": true
   },
   "outputs": [],
   "source": [
    "\"\"\"Plotting the Loss Function in 3D, Interactive Mode_1\"\"\"\n",
    "\n",
    "# %matplotlib notebook        \n",
    "# from mpl_toolkits.mplot3d import axes3d\n",
    "\n",
    "x = np.linspace(-4,4,8)\n",
    "y = np.linspace(-4,4,8)\n",
    "X,Y = np.meshgrid(x,y)\n",
    "X =  np.ravel(X)\n",
    "Y =  np.ravel(Y)\n",
    "\n",
    "fig, ax0 = plt.subplots( subplot_kw={\"projection\": \"3d\"}, figsize=(7,7))\n",
    "ax0.plot_trisurf(X,Y,Z[7])\n",
    "ax0.plot_trisurf(X,Y,Z[10], label = \"-0.5\")\n",
    "ax0.plot_trisurf(X,Y,Z[11], label = \"0\")\n",
    "ax0.set_title('rho=-0.7, theta = 0', color ='red')\n",
    "ax0.set_xlabel('sigma')\n",
    "ax0.set_ylabel('theta')\n",
    "ax0.set_zlabel('Ls')\n",
    "# ax.legend(loc=\"best\")\n",
    "ax0.set_facecolor(\"gray\")"
   ]
  },
  {
   "cell_type": "code",
   "execution_count": null,
   "id": "7127b2f0",
   "metadata": {},
   "outputs": [],
   "source": [
    "\"\"\"Plotting the Loss Function in 3D, Interactive Mode_2\"\"\"\n",
    "\n",
    "def Ls(X, Y, theta, rho):\n",
    "    def heston_inner_func(i):   #calculates the predicted lable for each training sample\n",
    "        WT  = np.random.multivariate_normal(np.array([0, 0]), np.array([[1, rho], [rho, 1]]))[1]\n",
    "        V1 =  np.abs(X_training_heston[i] + X * (theta - X_training_heston[i]) * 1 + \n",
    "                     Y * np.sqrt(X_training_heston[i]) * WT + .25 * Y**2 * (WT**2 - 1))\n",
    "        return V1\n",
    "    Ls = (1/m) * np.sum(np.array([(heston_inner_func(i) - Y_training_heston[i])**2 for i in range(m)]))\n",
    "    return Ls\n",
    "\n",
    "Z=[]\n",
    "for x in np.linspace(-6,6,24):\n",
    "    for y in np.linspace(-6,6,24):\n",
    "        Z.append(Ls(x,y, 0, 0.5))\n",
    "        \n",
    "x = np.linspace(-6,6,24)\n",
    "y = np.linspace(-6,6,24)\n",
    "X,Y = np.meshgrid(x,y)\n",
    "X =  np.ravel(X)\n",
    "Y =  np.ravel(Y)\n",
    "\n",
    "fig, ax0 = plt.subplots( subplot_kw={\"projection\": \"3d\"}, figsize=(10,10))\n",
    "ax0.plot_trisurf(X,Y,Z)\n",
    "ax0.set_title('rho=0.5, theta = 0', color ='white')\n",
    "ax0.set_xlabel('kappa')\n",
    "ax0.set_ylabel('sigma')\n",
    "ax0.set_zlabel('Ls')\n",
    "# ax.legend(loc=\"best\")\n",
    "ax0.set_facecolor(\"gray\")"
   ]
  },
  {
   "cell_type": "code",
   "execution_count": null,
   "id": "be22b504",
   "metadata": {},
   "outputs": [],
   "source": [
    "\"\"\"Best paramteres according to qualitative observatinon\"\"\"\n",
    "# k, theta, rho, sigma = 0.1, 0, 0.5, 0.5\n",
    "k, theta, rho, sigma = 0.1, 0, 0.5, 0.1"
   ]
  },
  {
   "cell_type": "code",
   "execution_count": null,
   "id": "371890d1",
   "metadata": {},
   "outputs": [],
   "source": [
    "\"\"\"Evaluating the model on test Set\"\"\"\n",
    "# k, theta, rho, sigma = best_params[0], best_params[1], best_params[2], best_params[3]\n",
    "Y_pred = np.array([heston_pde_milstein(X_test_heston[i], k, theta, rho, sigma) for i in range(len(X_test_heston))])\n",
    "Heston_ERM_pred = np.ravel(Y_pred)\n",
    "#True Error\n",
    "Ld =  (1/len(Y_test_heston)) * np.sum((Heston_ERM_pred - Y_test_heston)**2)\n",
    "print(\"The True error is:\", Ld)"
   ]
  },
  {
   "cell_type": "code",
   "execution_count": null,
   "id": "6a6bb2d4",
   "metadata": {},
   "outputs": [],
   "source": [
    "\"\"\"Investigating the validity of result\"\"\"\n",
    "plt.style.use('dark_background')\n",
    "plt.figure(figsize=(14,7))\n",
    "plt.plot([t for t in range(len(Y_pred))], Y_test_heston, label = \"Y_test\")\n",
    "plt.plot([t for t in range(len(Y_pred))], X_test_heston, label = \"X_test_heston\")\n",
    "plt.plot([t for t in range(len(Y_pred))], Y_pred, label = \"Y_pred\")\n",
    "plt.title(\"Prediction of Tomorrow Volatility Using Qualitative Method for Parameter Estimation\")\n",
    "# plt.axline((20,X_test_heston.mean()), (20, X_test_heston.max()), color=\"red\", \n",
    "#            label = 'Cutoff frequency', linestyle=(0, (5, 5)))\n",
    "# plt.axline((40, X_test_heston.mean()), (40,  X_test_heston.max()), \n",
    "#            color=\"red\", label = 'Cutoff frequency', linestyle=(0, (5, 5)))\n",
    "plt.xlabel(\"Time\")\n",
    "plt.ylabel(\"Volatility\")\n",
    "plt.legend()\n",
    "\n",
    "# a,b= 600,650\n",
    "# axes = plt.axes( [ 0.53, 0.65, 0.2, 0.2 ] )\n",
    "# axes.plot( np.arange( a , b ), Y_test[a:b], label = \"Y_test\")\n",
    "# axes.plot( np.arange( a , b ), X_test_heston[a:b], label = \"X_test_heston\")\n",
    "# axes.plot( np.arange( a , b ), Y_pred[a:b], label = \"Y_pred\")\n",
    "# axes.axline((40, X_test_heston.mean()), (40,  X_test_heston.max()), \n",
    "#            color=\"red\", label = 'Cutoff frequency', linestyle=(0, (5, 5)))\n",
    "# axes.legend()\n",
    "# axes.grid( linestyle = 'dotted' )"
   ]
  },
  {
   "cell_type": "code",
   "execution_count": null,
   "id": "66903852",
   "metadata": {},
   "outputs": [],
   "source": [
    "\"\"\"What's the probelm?\"\"\"\n",
    "\n",
    "plt.style.use('dark_background')\n",
    "plt.figure(figsize=(14,7))\n",
    "plt.plot([t for t in range(len(Y_pred))], Y_test_heston, label = \"Y_test\")\n",
    "plt.plot([t for t in range(len(Y_pred))], X_test_heston, label = \"X_test_heston\")\n",
    "plt.plot([t for t in range(len(Y_pred))], Y_pred, label = \"Y_pred\")\n",
    "plt.title(\"Prediction of Tomorrow Volatility Using Qualitative Method for Parameter Estimation\")\n",
    "plt.xlabel(\"Time\")\n",
    "plt.ylabel(\"Volatility\")\n",
    "plt.xlim(600,620)\n",
    "plt.ylim(20,40)\n",
    "plt.legend()"
   ]
  },
  {
   "cell_type": "markdown",
   "id": "4645d01a",
   "metadata": {},
   "source": [
    "## Using Neural Network for the Whole task: A Non-Physical Experiment"
   ]
  },
  {
   "cell_type": "code",
   "execution_count": 15,
   "id": "29c06c3d",
   "metadata": {},
   "outputs": [],
   "source": [
    "#Let's, just for a momemnt, Ignore any pre_knowledge about the subject and see what happens\n",
    "#Don't forget to run the first cell, just the first one \n",
    "\n",
    "n=0     #Looking at n previous days to estimate paramteres + today's volatility\n",
    "X= [[dataset[j] for j in range(i, i+n+1)] for i in range(len(dataset) - n - 1)]\n",
    "Y= [dataset[i+n+1] for i in range(len(dataset) - n -1)]\n",
    "\n",
    "# Putting more emphasis on today's data:f\n",
    "\n",
    "emphasis = 1    #repearing today's value emphasis times\n",
    "for i in range(len(X)):\n",
    "    for j in range(emphasis-1):\n",
    "        X[i].append(X[i][-1])        \n",
    "\n",
    "m_training= 2000\n",
    "m_test= 1000\n",
    "\n",
    "X_training_NN = X [:m_training]\n",
    "Y_training_NN = Y [:m_training]   \n",
    "X_test_NN     = X [m_training:m_training+m_test]\n",
    "Y_test_NN     = Y [m_training:m_training+m_test]\n",
    "    \n",
    "#Let's scale the Volatilities:\n",
    "M = 1    #M times magnification\n",
    "\n",
    "X_training_NN  = np.array(X_training_NN)     * M\n",
    "Y_training_NN  = np.array(Y_training_NN)     * M\n",
    "X_test_NN      = np.array(X_test_NN)         * M\n",
    "Y_test_NN      = np.array(Y_test_NN)         * M"
   ]
  },
  {
   "cell_type": "code",
   "execution_count": 16,
   "id": "27e2551f",
   "metadata": {},
   "outputs": [
    {
     "name": "stdout",
     "output_type": "stream",
     "text": [
      "\n",
      "The score: 0.9595523157663451\n"
     ]
    }
   ],
   "source": [
    "NN_R = MLPRegressor(hidden_layer_sizes=(20, 20, 20), max_iter=1000, \n",
    "                    alpha=1e-4, solver='adam', momentum=0.9,\n",
    "                    activation='relu', tol=1e-4, learning_rate_init=0.01)\n",
    "NN_R.fit(X_training_NN, Y_training_NN)\n",
    "NN_pred = NN_R.predict(X_test_NN)\n",
    "# print(\"Predicted Volatilty:\\n\", Y_pred[100:120])\n",
    "# print(\"\\nTrue Volatility:\\n\",     Y_test[100:120])\n",
    "print(\"\\nThe score:\", NN_R.score(X_test_NN, Y_test_NN))"
   ]
  },
  {
   "cell_type": "code",
   "execution_count": null,
   "id": "f91227bc",
   "metadata": {},
   "outputs": [],
   "source": [
    "# # Model Selection, Grid Search CV\n",
    "# NN_R = MLPRegressor(max_iter=1000, alpha=1e-4, solver='adam', momentum=0.9,\n",
    "#                     activation='relu', tol=1e-4, learning_rate_init=0.001)\n",
    "# parameters = {'hidden_layer_sizes': [(20),(20,20),(20,20,20),(20,20,20,20),(20,20,20,20,20)]}\n",
    "\n",
    "# gsc = GridSearchCV(NN_R, parameters, cv=5)\n",
    "\n",
    "# gsc.fit(X_training_NN, Y_training_heston)\n",
    "\n",
    "# print(\"Best parameters set found:\")\n",
    "# print(gsc.best_params_)\n",
    "# print(\"\\n\")\n",
    "\n",
    "# print(\"Score with best parameters:\")\n",
    "# print(gsc.best_score_)\n",
    "# print(\"\\n\")\n",
    "\n",
    "# #Correct this part\n",
    "# print(\"All scores on the grid:\")\n",
    "# print(gsc.cv_results_.get('split0_test_score'))\n",
    "# print(gsc.cv_results_.get('split1_test_score'))\n",
    "# print(gsc.cv_results_.get('split2_test_score'))\n",
    "# print(gsc.cv_results_.get('split3_test_score'))\n",
    "# print(gsc.cv_results_.get('split4_test_score'))\n",
    "# print(gsc.cv_results_.get('split5_test_score'))"
   ]
  },
  {
   "cell_type": "code",
   "execution_count": null,
   "id": "cf01019a",
   "metadata": {},
   "outputs": [],
   "source": [
    "\"\"\"at this point we don't know if we are getting a good score just beacuse of the similarity between volatlities or\n",
    "the model is working properly, we should try to figure out a way to find this!\n",
    "let's plot the graphs and see what's going on\"\"\"\n",
    "\n",
    "plt.style.use('dark_background')\n",
    "plt.figure(figsize=(14,7))\n",
    "plt.plot([t for t in range(len(Y_test_NN))], Y_test_NN,color='gold', marker='.', label='Y_test')\n",
    "plt.plot([t for t in range(len(Y_test_NN))], NN_pred,color='b', marker='.', label='Y_pred')\n",
    "plt.plot([t for t in range(len(Y_test_NN))], \n",
    "            [X_test_NN[i][-1] for i in range(len(Y_test_NN))], alpha= 0.9, color='r', marker='.', label='X_test')\n",
    "\n",
    "plt.xlim(400,450)\n",
    "plt.ylim(12,22)\n",
    "\n",
    "plt.legend()"
   ]
  },
  {
   "cell_type": "code",
   "execution_count": null,
   "id": "d521c015",
   "metadata": {},
   "outputs": [],
   "source": [
    "\"\"\"It seems that the result is merely a translation of today's volalitilies \n",
    "not the predictions for tomorrow!\n",
    "but let's measure this preciesly\"\"\"\n",
    "\n",
    "Distance_from_tomorrow = np.sum(np.abs(NN_pred - Y_test_NN))\n",
    "Distance_from_today    = np.sum(np.abs(np.array(\n",
    "                         NN_pred - [X_test_NN[i][-1] for i in range(len(list(Y_test_NN)))])))\n",
    "\n",
    "print(\"Distance to Today:\\n\"     , np.sum(Distance_from_today))\n",
    "print(\"\\nDistance to Tommorow:\\n\", np.sum(Distance_from_tomorrow))"
   ]
  },
  {
   "cell_type": "code",
   "execution_count": null,
   "id": "0d101f8d",
   "metadata": {},
   "outputs": [],
   "source": [
    "#Let's Investigate the behaviour of Distance w.r to n and emphasis(Looking at n previous data)\n",
    "#Just Run the fist Cell before running this cell\n",
    "\n",
    "D_today = []  #The list to save all values\n",
    "D_tomorrow = []\n",
    "\n",
    "for emphasis in [3]:\n",
    "    Distance_from_today_list    = []\n",
    "    Distance_from_tomorrow_list = []\n",
    "    \n",
    "    for n in range(0,50,5):\n",
    "        X= [[dataset[j] for j in range(i, i+n+1)] for i in range(len(dataset) - n - 1)]\n",
    "        Y= [dataset[i+n+1] for i in range(len(dataset) - n -1)]\n",
    "\n",
    "        for i in range(len(X)):\n",
    "            for j in range(emphasis-1):\n",
    "                X[i].append(X[i][-1])    \n",
    "                \n",
    "        m_training = 2000\n",
    "        m_test     = 1000\n",
    "        X_training = X [:m_training]\n",
    "        Y_training = Y [:m_training]   \n",
    "        X_test     = X [m_training: m_training + m_test]\n",
    "        Y_test     = Y [m_training: m_training + m_test]\n",
    "                 \n",
    "#         M = 10    #M times magnification\n",
    "#         X_training= np.array(X_training_NN) * M\n",
    "#         Y_training= np.array(Y_training_heston) * M\n",
    "#         X_test= np.array(X_test) * M\n",
    "#         Y_test= np.array(Y_test) * M\n",
    "\n",
    "        NN_R.fit(X_training, Y_training)\n",
    "        Y_pred = NN_R.predict(X_test)\n",
    "    \n",
    "        Distance_from_tomorrow    = np.sum(np.abs(Y_pred - Y_test))\n",
    "        Distance_from_today = np.sum(np.abs(np.array(\n",
    "                              Y_pred - [X_test[i][-1] for i in range(len(list(Y_test)))])))\n",
    "        Distance_from_today_list.append(Distance_from_today)\n",
    "        Distance_from_tomorrow_list.append(Distance_from_tomorrow)\n",
    "\n",
    "    D_today.append(Distance_from_today_list)\n",
    "    D_tomorrow.append(Distance_from_tomorrow_list)\n",
    "    \n",
    "    #Normalization:\n",
    "    D_today= np.array(D_today)/(max(np.array(D_today).max(),np.array(D_tomorrow).max()))\n",
    "    D_tomorrow= np.array(D_tomorrow)/(max(np.array(D_today).max(), np.array(D_tomorrow).max()))\n",
    "    \n",
    "    # Plotting the Result of previous part\n",
    "plt.figure(figsize=(13,7))\n",
    "# plt.plot([t for t in range(L)], Distance_from_today_list, )\n",
    "plt.plot([t for t in range(len(D_tomorrow[0]))], D_tomorrow[0],\n",
    "            marker=\"o\", label = 'tom')\n",
    "plt.plot([t for t in range(len(D_today[0]))   ],    D_today[0],\n",
    "            marker=\"o\", label = 'tod')\n",
    "plt.ylabel('Distance')\n",
    "plt.legend()\n",
    "plt.show()"
   ]
  },
  {
   "cell_type": "markdown",
   "id": "45f97ad5",
   "metadata": {},
   "source": [
    "## Comparison of Ml method to MLE method:"
   ]
  },
  {
   "cell_type": "code",
   "execution_count": 12,
   "id": "2add90da",
   "metadata": {},
   "outputs": [],
   "source": [
    "#Load the MLE paramter estimatin prediction\n",
    "MLE_pred = pd.read_csv('UX1_Heston_Predictions.csv').mean_sim"
   ]
  },
  {
   "cell_type": "code",
   "execution_count": 19,
   "id": "0a3039b5",
   "metadata": {},
   "outputs": [
    {
     "ename": "NameError",
     "evalue": "name 'Y_test' is not defined",
     "output_type": "error",
     "traceback": [
      "\u001b[1;31m---------------------------------------------------------------------------\u001b[0m",
      "\u001b[1;31mNameError\u001b[0m                                 Traceback (most recent call last)",
      "\u001b[1;32m<ipython-input-19-eea11a24a960>\u001b[0m in \u001b[0;36m<module>\u001b[1;34m\u001b[0m\n\u001b[0;32m      5\u001b[0m \u001b[1;31m# plt.plot([t for t in range(time_slice)], Heston_ERM_pred[100:100+time_slice],label=\"Heston_ERM prediction\")\u001b[0m\u001b[1;33m\u001b[0m\u001b[1;33m\u001b[0m\u001b[1;33m\u001b[0m\u001b[0m\n\u001b[0;32m      6\u001b[0m plt.plot([t for t in range(time_slice)], \n\u001b[1;32m----> 7\u001b[1;33m             \u001b[0mY_test\u001b[0m\u001b[1;33m[\u001b[0m\u001b[1;36m100\u001b[0m\u001b[1;33m:\u001b[0m \u001b[1;36m100\u001b[0m\u001b[1;33m+\u001b[0m\u001b[0mtime_slice\u001b[0m\u001b[1;33m]\u001b[0m\u001b[1;33m,\u001b[0m \u001b[0mcolor\u001b[0m \u001b[1;33m=\u001b[0m\u001b[1;34m'r'\u001b[0m\u001b[1;33m,\u001b[0m\u001b[1;33m\u001b[0m\u001b[1;33m\u001b[0m\u001b[0m\n\u001b[0m\u001b[0;32m      8\u001b[0m                    label= \"Real Value of Volatility\")\n\u001b[0;32m      9\u001b[0m \u001b[0mplt\u001b[0m\u001b[1;33m.\u001b[0m\u001b[0mlegend\u001b[0m\u001b[1;33m(\u001b[0m\u001b[1;33m)\u001b[0m\u001b[1;33m\u001b[0m\u001b[1;33m\u001b[0m\u001b[0m\n",
      "\u001b[1;31mNameError\u001b[0m: name 'Y_test' is not defined"
     ]
    },
    {
     "data": {
      "image/png": "[encoded data removed]",
      "text/plain": [
       "<Figure size 1152x648 with 1 Axes>"
      ]
     },
     "metadata": {
      "needs_background": "light"
     },
     "output_type": "display_data"
    }
   ],
   "source": [
    "time_slice = 300\n",
    "plt.figure(figsize=(16,9))\n",
    "plt.plot([t for t in range(time_slice)], MLE_pred[2040:2040+time_slice],label= \"MLE prediction\")\n",
    "plt.plot([t for t in range(time_slice)], NN_pred[100:100+time_slice],label=\"Neural network prediction\")\n",
    "# plt.plot([t for t in range(time_slice)], Heston_ERM_pred[100:100+time_slice],label=\"Heston_ERM prediction\")\n",
    "plt.plot([t for t in range(time_slice)], \n",
    "            Y_test[100: 100+time_slice], color ='r',\n",
    "                   label= \"Real Value of Volatility\")\n",
    "plt.legend()\n",
    "\n",
    "a,b=150,180\n",
    "axes = plt.axes( [ 0.15, 0.59, 0.27, 0.27 ] )\n",
    "axes.plot( np.arange( a , b ), MLE_pred[2040+a : 2040+b],fmt='g--' ,label = \"MLE\")\n",
    "axes.plot( np.arange( a , b ), NN_pred[100+a : 100+b], label = \"NN\")\n",
    "axes.plot( np.arange( a , b ), Heston_ERM_pred[100+a:100+b], label = \"Heston\")\n",
    "axes.plot( np.arange( a , b ), Y_test[100+a:100+b], color = 'red', label = \"True Vol.\")\n",
    "# axes.axline((40, X_test.mean()), (40,  X_test.max()), \n",
    "#            color=\"red\", label = 'Cutoff frequency', linestyle=(0, (5, 5)))\n",
    "axes.legend()\n",
    "axes.grid( linestyle = 'dotted' )"
   ]
  },
  {
   "cell_type": "code",
   "execution_count": null,
   "id": "7bccfcc5",
   "metadata": {},
   "outputs": [],
   "source": []
  }
 ],
 "metadata": {
  "kernelspec": {
   "display_name": "Python 3",
   "language": "python",
   "name": "python3"
  },
  "language_info": {
   "codemirror_mode": {
    "name": "ipython",
    "version": 3
   },
   "file_extension": ".py",
   "mimetype": "text/x-python",
   "name": "python",
   "nbconvert_exporter": "python",
   "pygments_lexer": "ipython3",
   "version": "3.8.8"
  }
 },
 "nbformat": 4,
 "nbformat_minor": 5
}
